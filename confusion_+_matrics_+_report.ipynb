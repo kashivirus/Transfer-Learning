{
  "nbformat": 4,
  "nbformat_minor": 0,
  "metadata": {
    "colab": {
      "name": "confusion + matrics + report.ipynb",
      "provenance": [],
      "collapsed_sections": []
    },
    "kernelspec": {
      "name": "python3",
      "display_name": "Python 3"
    },
    "language_info": {
      "name": "python"
    },
    "accelerator": "GPU"
  },
  "cells": [
    {
      "cell_type": "code",
      "metadata": {
        "id": "08pq56AC-RJc"
      },
      "source": [
        ""
      ],
      "execution_count": null,
      "outputs": []
    },
    {
      "cell_type": "code",
      "metadata": {
        "id": "4SNklQqlIBwD"
      },
      "source": [
        "from glob import glob\n",
        "\n",
        "\n",
        "import numpy as np\n",
        "import pandas as pd\n",
        "import matplotlib.pyplot as plt\n",
        "import seaborn as sns\n",
        "import os\n",
        "from keras import models, layers, callbacks\n",
        "# from keras.utils import to_categorical\n",
        "from keras.preprocessing.image import ImageDataGenerator\n",
        "from sklearn.model_selection import train_test_split\n",
        "from keras.models import Sequential\n",
        "from keras.layers import Dense, Dropout, Flatten\n",
        "from keras.layers import Conv2D, MaxPooling2D\n",
        "from pathlib import Path\n",
        "from sklearn.metrics import classification_report, confusion_matrix\n",
        "import numpy as np\n",
        "import pandas as pd\n",
        "\n",
        "\n",
        "\n",
        "\n",
        "\n",
        "import os \n",
        "import json\n",
        "import PIL\n",
        "import numpy as np\n",
        "import pandas as pd # data processing, CSV file I/O (e.g. pd.read_csv)\n",
        "import matplotlib.patches as patches\n",
        "import matplotlib.patheffects as path_effects\n",
        "import albumentations as A\n",
        "import seaborn as sns\n",
        "\n",
        "import tensorflow as tf\n"
      ],
      "execution_count": 1,
      "outputs": []
    },
    {
      "cell_type": "code",
      "metadata": {
        "id": "GBdcNZ4p-miB"
      },
      "source": [
        "import keras\n",
        "model = keras.models.load_model('/content/drive/MyDrive/KASHIF DEEP LEARNING/transfer learning/##GRAPH/root/model_00.h5')\n"
      ],
      "execution_count": 2,
      "outputs": []
    },
    {
      "cell_type": "code",
      "metadata": {
        "id": "4rVB_Ayg-oq0"
      },
      "source": [
        "from keras.preprocessing.image import ImageDataGenerator\n",
        "\n",
        "test_dir = '/content/drive/MyDrive/KASHIF DEEP LEARNING/transfer learning/ Jason Brownlee/dataBase/test'\n",
        "\n",
        "validation_dir = '/content/drive/MyDrive/KASHIF DEEP LEARNING/transfer learning/ Jason Brownlee/dataBase/val'\n",
        "\n",
        "train_dir = '/content/drive/MyDrive/KASHIF DEEP LEARNING/transfer learning/ Jason Brownlee/dataBase/train'\n",
        "\n",
        "\n",
        "\n",
        "image_size=[263,173]\n",
        "\n",
        "\n",
        "# datagen = ImageDataGenerator(rescale=1.0/255)\n",
        "# train_generator = datagen.flow_from_directory(train_dir, class_mode='categorical', batch_size=32,target_size=image_size)\n",
        "# valid_generator = datagen.flow_from_directory(validation_dir, class_mode='categorical', batch_size=32,target_size=image_size)\n",
        "# test_generator = datagen.flow_from_directory(test_dir, class_mode='categorical', batch_size=32,target_size=image_size)"
      ],
      "execution_count": 3,
      "outputs": []
    },
    {
      "cell_type": "code",
      "metadata": {
        "id": "HN-NOErsIx1g"
      },
      "source": [
        ""
      ],
      "execution_count": 3,
      "outputs": []
    },
    {
      "cell_type": "code",
      "metadata": {
        "id": "SprdlFahJTSG"
      },
      "source": [
        "\n",
        "import os \n",
        "import json\n",
        "import PIL\n",
        "import numpy as np\n",
        "import pandas as pd # data processing, CSV file I/O (e.g. pd.read_csv)\n",
        "import matplotlib.patches as patches\n",
        "import matplotlib.patheffects as path_effects\n",
        "import albumentations as A\n",
        "import seaborn as sns"
      ],
      "execution_count": 4,
      "outputs": []
    },
    {
      "cell_type": "markdown",
      "metadata": {
        "id": "45gj7OTzHZnZ"
      },
      "source": [
        "**MODEL STATRT**"
      ]
    },
    {
      "cell_type": "code",
      "metadata": {
        "colab": {
          "base_uri": "https://localhost:8080/",
          "height": 206
        },
        "id": "hy8wjYKlNNSS",
        "outputId": "4a78a74b-77b0-427d-a364-1354b8656eda"
      },
      "source": [
        "image_dir = Path(train_dir)\n",
        "\n",
        "# Get filepaths and labels\n",
        "filepaths = list(image_dir.glob(r'**/*.png'))\n",
        "labels = list(map(lambda x: os.path.split(os.path.split(x)[0])[1], filepaths))\n",
        "\n",
        "filepaths = pd.Series(filepaths, name='Filepaths').astype(str)\n",
        "labels = pd.Series(labels, name='Labels')\n",
        "\n",
        "# Concatenate filepaths and labels\n",
        "image_df = pd.concat([filepaths, labels], axis=1)\n",
        "\n",
        "# Drop GT images\n",
        "image_df = image_df[image_df['Labels'].apply(lambda x: x[-2:] != 'GT')]\n",
        "\n",
        "# Shuffle the DataFrame and reset index\n",
        "image_df = image_df.sample(frac=1).reset_index(drop = True)\n",
        "\n",
        "# Show the result\n",
        "image_df.head()"
      ],
      "execution_count": 5,
      "outputs": [
        {
          "output_type": "execute_result",
          "data": {
            "text/html": [
              "<div>\n",
              "<style scoped>\n",
              "    .dataframe tbody tr th:only-of-type {\n",
              "        vertical-align: middle;\n",
              "    }\n",
              "\n",
              "    .dataframe tbody tr th {\n",
              "        vertical-align: top;\n",
              "    }\n",
              "\n",
              "    .dataframe thead th {\n",
              "        text-align: right;\n",
              "    }\n",
              "</style>\n",
              "<table border=\"1\" class=\"dataframe\">\n",
              "  <thead>\n",
              "    <tr style=\"text-align: right;\">\n",
              "      <th></th>\n",
              "      <th>Filepaths</th>\n",
              "      <th>Labels</th>\n",
              "    </tr>\n",
              "  </thead>\n",
              "  <tbody>\n",
              "    <tr>\n",
              "      <th>0</th>\n",
              "      <td>/content/drive/MyDrive/KASHIF DEEP LEARNING/tr...</td>\n",
              "      <td>apr</td>\n",
              "    </tr>\n",
              "    <tr>\n",
              "      <th>1</th>\n",
              "      <td>/content/drive/MyDrive/KASHIF DEEP LEARNING/tr...</td>\n",
              "      <td>aug</td>\n",
              "    </tr>\n",
              "    <tr>\n",
              "      <th>2</th>\n",
              "      <td>/content/drive/MyDrive/KASHIF DEEP LEARNING/tr...</td>\n",
              "      <td>jul</td>\n",
              "    </tr>\n",
              "    <tr>\n",
              "      <th>3</th>\n",
              "      <td>/content/drive/MyDrive/KASHIF DEEP LEARNING/tr...</td>\n",
              "      <td>may</td>\n",
              "    </tr>\n",
              "    <tr>\n",
              "      <th>4</th>\n",
              "      <td>/content/drive/MyDrive/KASHIF DEEP LEARNING/tr...</td>\n",
              "      <td>sep</td>\n",
              "    </tr>\n",
              "  </tbody>\n",
              "</table>\n",
              "</div>"
            ],
            "text/plain": [
              "                                           Filepaths Labels\n",
              "0  /content/drive/MyDrive/KASHIF DEEP LEARNING/tr...    apr\n",
              "1  /content/drive/MyDrive/KASHIF DEEP LEARNING/tr...    aug\n",
              "2  /content/drive/MyDrive/KASHIF DEEP LEARNING/tr...    jul\n",
              "3  /content/drive/MyDrive/KASHIF DEEP LEARNING/tr...    may\n",
              "4  /content/drive/MyDrive/KASHIF DEEP LEARNING/tr...    sep"
            ]
          },
          "metadata": {},
          "execution_count": 5
        }
      ]
    },
    {
      "cell_type": "code",
      "metadata": {
        "id": "myolmbTYE_ye"
      },
      "source": [
        "# Separate in train and test data\n",
        "train_df, test_df = train_test_split(image_df, train_size=0.85, shuffle=True, random_state=1)"
      ],
      "execution_count": 6,
      "outputs": []
    },
    {
      "cell_type": "code",
      "metadata": {
        "id": "A8D6HvsjFIEZ"
      },
      "source": [
        "image_size=[263,173]\n",
        "\n",
        "\n",
        "train_generator = ImageDataGenerator(rescale=1.0/255 , \n",
        "                             validation_split=0.15)\n",
        "\n",
        "\n",
        "\n",
        "\n",
        "test_generator = ImageDataGenerator(\n",
        "    rescale = 1.0/255,\n",
        "\n",
        ")\n",
        "\n",
        "\n",
        "\n",
        "\n",
        "\n",
        "\n",
        "\n",
        "\n",
        "\n",
        "\n",
        "\n",
        "# train_generator = datagen.flow_from_directory(train_dir, class_mode='categorical', batch_size=32,target_size=image_size)\n",
        "# valid_generator = datagen.flow_from_directory(validation_dir, class_mode='categorical', batch_size=32,target_size=image_size)\n",
        "# test_generator = datagen.flow_from_directory(test_dir, class_mode='categorical', batch_size=32,target_size=image_size)"
      ],
      "execution_count": 7,
      "outputs": []
    },
    {
      "cell_type": "code",
      "metadata": {
        "colab": {
          "base_uri": "https://localhost:8080/"
        },
        "id": "8rTbs3tXFUr7",
        "outputId": "fe490843-25dd-41d1-da4a-f1ac73dcb237"
      },
      "source": [
        "train_images = train_generator.flow_from_dataframe(\n",
        "    dataframe=train_df,\n",
        "    x_col='Filepaths',\n",
        "    y_col='Labels',\n",
        "    target_size=image_size,\n",
        "    color_mode='rgb',\n",
        "    class_mode='categorical',\n",
        "    batch_size=64,\n",
        "    shuffle=True,\n",
        "    seed=42,\n",
        "    subset='training'\n",
        ")"
      ],
      "execution_count": 8,
      "outputs": [
        {
          "output_type": "stream",
          "name": "stdout",
          "text": [
            "Found 3035 validated image filenames belonging to 12 classes.\n"
          ]
        }
      ]
    },
    {
      "cell_type": "code",
      "metadata": {
        "colab": {
          "base_uri": "https://localhost:8080/"
        },
        "id": "SZROA4UHF7lF",
        "outputId": "62d1b652-448d-4baf-fcfd-1742664bcd8b"
      },
      "source": [
        "val_images = train_generator.flow_from_dataframe(\n",
        "    dataframe=train_df,\n",
        "    x_col='Filepaths',\n",
        "    y_col='Labels',\n",
        "    target_size=image_size,\n",
        "    color_mode='rgb',\n",
        "    class_mode='categorical',\n",
        "    batch_size=64,\n",
        "    shuffle=True,\n",
        "    seed=42,\n",
        "    subset='validation'\n",
        ")"
      ],
      "execution_count": 9,
      "outputs": [
        {
          "output_type": "stream",
          "name": "stdout",
          "text": [
            "Found 535 validated image filenames belonging to 12 classes.\n"
          ]
        }
      ]
    },
    {
      "cell_type": "code",
      "metadata": {
        "colab": {
          "base_uri": "https://localhost:8080/"
        },
        "id": "fEyFdp4-GnFY",
        "outputId": "b043779d-952a-4108-96d0-9a35ed582fea"
      },
      "source": [
        "test_images = test_generator.flow_from_dataframe(\n",
        "    dataframe=test_df,\n",
        "    x_col='Filepaths',\n",
        "    y_col='Labels',\n",
        "    target_size=image_size,\n",
        "    color_mode='rgb',\n",
        "    class_mode='categorical',\n",
        "    batch_size=64,\n",
        "    shuffle=False\n",
        ")"
      ],
      "execution_count": 10,
      "outputs": [
        {
          "output_type": "stream",
          "name": "stdout",
          "text": [
            "Found 630 validated image filenames belonging to 12 classes.\n"
          ]
        }
      ]
    },
    {
      "cell_type": "code",
      "metadata": {
        "colab": {
          "base_uri": "https://localhost:8080/"
        },
        "id": "gi1Hc6kVGuMg",
        "outputId": "cde70d93-65e5-48fd-c418-41dd0e084d2a"
      },
      "source": [
        "from keras.models import Sequential, Model, load_model\n",
        "from keras import applications\n",
        "from keras import optimizers\n",
        "from keras.layers import Dropout, Flatten, Dense\n",
        "from keras.applications.vgg16 import VGG16\n",
        "\n",
        "image_size=[263,173]\n",
        "\n",
        "base_model = VGG16(weights='imagenet', include_top=False, input_shape=(263,173, 3))\n",
        "\n",
        "\n"
      ],
      "execution_count": 11,
      "outputs": [
        {
          "output_type": "stream",
          "name": "stdout",
          "text": [
            "Downloading data from https://storage.googleapis.com/tensorflow/keras-applications/vgg16/vgg16_weights_tf_dim_ordering_tf_kernels_notop.h5\n",
            "58892288/58889256 [==============================] - 1s 0us/step\n",
            "58900480/58889256 [==============================] - 1s 0us/step\n"
          ]
        }
      ]
    },
    {
      "cell_type": "code",
      "metadata": {
        "id": "xIp5phxDG2fp"
      },
      "source": [
        "for layer in base_model.layers:\n",
        "    layer.trainable = False"
      ],
      "execution_count": 12,
      "outputs": []
    },
    {
      "cell_type": "code",
      "metadata": {
        "id": "D5UIOIAVG5rk"
      },
      "source": [
        "add_model = Sequential()\n",
        "add_model.add(Flatten(input_shape=base_model.output_shape[1:]))\n",
        "# add_model.add(Dense(256, activation='relu'))\n",
        "add_model.add(Dense(12, activation='softmax'))"
      ],
      "execution_count": 13,
      "outputs": []
    },
    {
      "cell_type": "code",
      "metadata": {
        "id": "OwhYYZnlG82K"
      },
      "source": [
        "\n",
        "model = Model(inputs=base_model.input, outputs=add_model(base_model.output))\n"
      ],
      "execution_count": 14,
      "outputs": []
    },
    {
      "cell_type": "code",
      "metadata": {
        "id": "x7zt5oASG-yI"
      },
      "source": [
        "\n",
        "\n",
        "model.compile(loss='categorical_crossentropy', \n",
        "              optimizer=tf.keras.optimizers.SGD(learning_rate=0.01, momentum=0.9, nesterov=True) ,\n",
        "              metrics=['accuracy'] ,)"
      ],
      "execution_count": 15,
      "outputs": []
    },
    {
      "cell_type": "code",
      "metadata": {
        "id": "IH7vYDj1HBdV"
      },
      "source": [
        "from keras.callbacks import ModelCheckpoint, LearningRateScheduler, EarlyStopping, ReduceLROnPlateau\n",
        "weight_path='/content/drive/MyDrive/KASHIF DEEP LEARNING/transfer learning/##GRAPH/Fibal/weifgt_00.h5'\n",
        "\n",
        "checkpoint = ModelCheckpoint(weight_path, monitor='val_loss', verbose=1, \n",
        "                             save_best_only=True, mode='min', save_weights_only = True)\n",
        "\n",
        "\n",
        "reduceLROnPlat = ReduceLROnPlateau(monitor='val_loss', factor=0.8, patience=10, verbose=1, mode='auto', min_delta=0.0001, cooldown=5, min_lr=0.0001)\n",
        "early = EarlyStopping(monitor=\"val_loss\", \n",
        "                      mode=\"min\", \n",
        "                      patience=5) # probably needs to be more patient, but kaggle time is limited\n",
        "callbacks_list = [checkpoint, early, reduceLROnPlat]"
      ],
      "execution_count": 16,
      "outputs": []
    },
    {
      "cell_type": "code",
      "metadata": {
        "colab": {
          "base_uri": "https://localhost:8080/"
        },
        "id": "NWS8hTkPHNvq",
        "outputId": "a07f6f36-f9a9-4b6b-a2bb-02ca986b01d1"
      },
      "source": [
        "# history  = model.fit(\n",
        "\n",
        "\n",
        "#                      train_images,\n",
        "#                      batch_size=32,\n",
        "#                      epochs=100,\n",
        "#                      verbose='auto',\n",
        "#                      callbacks=callbacks_list,\n",
        "#                      validation_split=0.0, \n",
        "#                      validation_data=val_images,\n",
        "#                      shuffle=True,\n",
        "#                      class_weight=None,\n",
        "#                      sample_weight=None,\n",
        "#                      initial_epoch=0,\n",
        "#                      steps_per_epoch=3035/32,\n",
        "#                      validation_steps=535/32,\n",
        "#                      validation_batch_size=None,\n",
        "#                      validation_freq=1,\n",
        "#                      max_queue_size=10,\n",
        "#                      workers=1,\n",
        "#                      use_multiprocessing=False)\n",
        "\n",
        "\n",
        "\n",
        "\n",
        "history = model.fit(train_images, validation_data=val_images, epochs=100, callbacks=callbacks_list)"
      ],
      "execution_count": 20,
      "outputs": [
        {
          "output_type": "stream",
          "name": "stdout",
          "text": [
            "Epoch 1/100\n",
            "48/48 [==============================] - ETA: 0s - loss: 1.6549 - accuracy: 0.7736\n",
            "Epoch 00001: val_loss improved from 7.96766 to 0.39601, saving model to /content/drive/MyDrive/KASHIF DEEP LEARNING/transfer learning/##GRAPH/Fibal/weifgt_00.h5\n",
            "48/48 [==============================] - 28s 573ms/step - loss: 1.6549 - accuracy: 0.7736 - val_loss: 0.3960 - val_accuracy: 0.8879 - lr: 0.0100\n",
            "Epoch 2/100\n",
            "48/48 [==============================] - ETA: 0s - loss: 0.3306 - accuracy: 0.8956\n",
            "Epoch 00002: val_loss improved from 0.39601 to 0.15772, saving model to /content/drive/MyDrive/KASHIF DEEP LEARNING/transfer learning/##GRAPH/Fibal/weifgt_00.h5\n",
            "48/48 [==============================] - 26s 547ms/step - loss: 0.3306 - accuracy: 0.8956 - val_loss: 0.1577 - val_accuracy: 0.9495 - lr: 0.0100\n",
            "Epoch 3/100\n",
            "48/48 [==============================] - ETA: 0s - loss: 0.2308 - accuracy: 0.9245\n",
            "Epoch 00003: val_loss did not improve from 0.15772\n",
            "48/48 [==============================] - 25s 523ms/step - loss: 0.2308 - accuracy: 0.9245 - val_loss: 0.1623 - val_accuracy: 0.9458 - lr: 0.0100\n",
            "Epoch 4/100\n",
            "48/48 [==============================] - ETA: 0s - loss: 0.1470 - accuracy: 0.9499\n",
            "Epoch 00004: val_loss did not improve from 0.15772\n",
            "48/48 [==============================] - 25s 522ms/step - loss: 0.1470 - accuracy: 0.9499 - val_loss: 0.2318 - val_accuracy: 0.9215 - lr: 0.0100\n",
            "Epoch 5/100\n",
            "48/48 [==============================] - ETA: 0s - loss: 0.1161 - accuracy: 0.9565\n",
            "Epoch 00005: val_loss improved from 0.15772 to 0.13208, saving model to /content/drive/MyDrive/KASHIF DEEP LEARNING/transfer learning/##GRAPH/Fibal/weifgt_00.h5\n",
            "48/48 [==============================] - 26s 546ms/step - loss: 0.1161 - accuracy: 0.9565 - val_loss: 0.1321 - val_accuracy: 0.9570 - lr: 0.0100\n",
            "Epoch 6/100\n",
            "48/48 [==============================] - ETA: 0s - loss: 0.1051 - accuracy: 0.9641\n",
            "Epoch 00006: val_loss did not improve from 0.13208\n",
            "48/48 [==============================] - 25s 522ms/step - loss: 0.1051 - accuracy: 0.9641 - val_loss: 0.1579 - val_accuracy: 0.9439 - lr: 0.0100\n",
            "48/48 [==============================] - ETA: 0s - loss: 0.0947 - accuracy: 0.9694\n",
            "Epoch 00007: val_loss improved from 0.13208 to 0.12733, saving model to /content/drive/MyDrive/KASHIF DEEP LEARNING/transfer learning/##GRAPH/Fibal/weifgt_00.h5\n",
            "48/48 [==============================] - 26s 547ms/step - loss: 0.0947 - accuracy: 0.9694 - val_loss: 0.1273 - val_accuracy: 0.9533 - lr: 0.0100\n",
            "Epoch 8/100\n",
            "48/48 [==============================] - ETA: 0s - loss: 0.0765 - accuracy: 0.9750\n",
            "Epoch 00008: val_loss did not improve from 0.12733\n",
            "48/48 [==============================] - 25s 522ms/step - loss: 0.0765 - accuracy: 0.9750 - val_loss: 0.1284 - val_accuracy: 0.9533 - lr: 0.0100\n",
            "Epoch 9/100\n",
            "48/48 [==============================] - ETA: 0s - loss: 0.0661 - accuracy: 0.9796\n",
            "Epoch 00009: val_loss improved from 0.12733 to 0.09757, saving model to /content/drive/MyDrive/KASHIF DEEP LEARNING/transfer learning/##GRAPH/Fibal/weifgt_00.h5\n",
            "48/48 [==============================] - 26s 547ms/step - loss: 0.0661 - accuracy: 0.9796 - val_loss: 0.0976 - val_accuracy: 0.9664 - lr: 0.0100\n",
            "Epoch 10/100\n",
            "48/48 [==============================] - ETA: 0s - loss: 0.0681 - accuracy: 0.9763\n",
            "Epoch 00010: val_loss did not improve from 0.09757\n",
            "48/48 [==============================] - 25s 522ms/step - loss: 0.0681 - accuracy: 0.9763 - val_loss: 0.1050 - val_accuracy: 0.9664 - lr: 0.0100\n",
            "Epoch 11/100\n",
            "48/48 [==============================] - ETA: 0s - loss: 0.0497 - accuracy: 0.9875\n",
            "Epoch 00011: val_loss improved from 0.09757 to 0.08060, saving model to /content/drive/MyDrive/KASHIF DEEP LEARNING/transfer learning/##GRAPH/Fibal/weifgt_00.h5\n",
            "48/48 [==============================] - 26s 548ms/step - loss: 0.0497 - accuracy: 0.9875 - val_loss: 0.0806 - val_accuracy: 0.9776 - lr: 0.0100\n",
            "Epoch 12/100\n",
            "48/48 [==============================] - ETA: 0s - loss: 0.0533 - accuracy: 0.9858\n",
            "Epoch 00012: val_loss did not improve from 0.08060\n",
            "48/48 [==============================] - 25s 522ms/step - loss: 0.0533 - accuracy: 0.9858 - val_loss: 0.0818 - val_accuracy: 0.9720 - lr: 0.0100\n",
            "Epoch 13/100\n",
            "48/48 [==============================] - ETA: 0s - loss: 0.0456 - accuracy: 0.9881\n",
            "Epoch 00013: val_loss did not improve from 0.08060\n",
            "48/48 [==============================] - 25s 523ms/step - loss: 0.0456 - accuracy: 0.9881 - val_loss: 0.1107 - val_accuracy: 0.9664 - lr: 0.0100\n",
            "Epoch 14/100\n",
            "48/48 [==============================] - ETA: 0s - loss: 0.0411 - accuracy: 0.9898\n",
            "Epoch 00014: val_loss improved from 0.08060 to 0.07170, saving model to /content/drive/MyDrive/KASHIF DEEP LEARNING/transfer learning/##GRAPH/Fibal/weifgt_00.h5\n",
            "48/48 [==============================] - 26s 546ms/step - loss: 0.0411 - accuracy: 0.9898 - val_loss: 0.0717 - val_accuracy: 0.9738 - lr: 0.0100\n",
            "Epoch 15/100\n",
            "48/48 [==============================] - ETA: 0s - loss: 0.0327 - accuracy: 0.9937\n",
            "Epoch 00015: val_loss did not improve from 0.07170\n",
            "48/48 [==============================] - 25s 523ms/step - loss: 0.0327 - accuracy: 0.9937 - val_loss: 0.0833 - val_accuracy: 0.9720 - lr: 0.0100\n",
            "Epoch 16/100\n",
            "48/48 [==============================] - ETA: 0s - loss: 0.0292 - accuracy: 0.9951\n",
            "Epoch 00016: val_loss did not improve from 0.07170\n",
            "48/48 [==============================] - 25s 521ms/step - loss: 0.0292 - accuracy: 0.9951 - val_loss: 0.0801 - val_accuracy: 0.9757 - lr: 0.0100\n",
            "Epoch 17/100\n",
            "48/48 [==============================] - ETA: 0s - loss: 0.0370 - accuracy: 0.9908\n",
            "Epoch 00017: val_loss improved from 0.07170 to 0.07003, saving model to /content/drive/MyDrive/KASHIF DEEP LEARNING/transfer learning/##GRAPH/Fibal/weifgt_00.h5\n",
            "48/48 [==============================] - 26s 547ms/step - loss: 0.0370 - accuracy: 0.9908 - val_loss: 0.0700 - val_accuracy: 0.9776 - lr: 0.0100\n",
            "Epoch 18/100\n",
            "48/48 [==============================] - ETA: 0s - loss: 0.0295 - accuracy: 0.9951\n",
            "Epoch 00018: val_loss improved from 0.07003 to 0.06958, saving model to /content/drive/MyDrive/KASHIF DEEP LEARNING/transfer learning/##GRAPH/Fibal/weifgt_00.h5\n",
            "48/48 [==============================] - 26s 546ms/step - loss: 0.0295 - accuracy: 0.9951 - val_loss: 0.0696 - val_accuracy: 0.9757 - lr: 0.0100\n",
            "Epoch 19/100\n",
            "48/48 [==============================] - ETA: 0s - loss: 0.0280 - accuracy: 0.9941\n",
            "Epoch 00019: val_loss improved from 0.06958 to 0.06098, saving model to /content/drive/MyDrive/KASHIF DEEP LEARNING/transfer learning/##GRAPH/Fibal/weifgt_00.h5\n",
            "48/48 [==============================] - 26s 545ms/step - loss: 0.0280 - accuracy: 0.9941 - val_loss: 0.0610 - val_accuracy: 0.9776 - lr: 0.0100\n",
            "Epoch 20/100\n",
            "48/48 [==============================] - ETA: 0s - loss: 0.0284 - accuracy: 0.9957\n",
            "Epoch 00020: val_loss did not improve from 0.06098\n",
            "48/48 [==============================] - 25s 522ms/step - loss: 0.0284 - accuracy: 0.9957 - val_loss: 0.0689 - val_accuracy: 0.9794 - lr: 0.0100\n",
            "Epoch 21/100\n",
            "48/48 [==============================] - ETA: 0s - loss: 0.0267 - accuracy: 0.9967\n",
            "Epoch 00021: val_loss did not improve from 0.06098\n",
            "48/48 [==============================] - 25s 521ms/step - loss: 0.0267 - accuracy: 0.9967 - val_loss: 0.1022 - val_accuracy: 0.9589 - lr: 0.0100\n",
            "Epoch 22/100\n",
            "48/48 [==============================] - ETA: 0s - loss: 0.0209 - accuracy: 0.9977\n",
            "Epoch 00022: val_loss did not improve from 0.06098\n",
            "48/48 [==============================] - 25s 522ms/step - loss: 0.0209 - accuracy: 0.9977 - val_loss: 0.0824 - val_accuracy: 0.9664 - lr: 0.0100\n",
            "Epoch 23/100\n",
            "48/48 [==============================] - ETA: 0s - loss: 0.0224 - accuracy: 0.9974\n",
            "Epoch 00023: val_loss improved from 0.06098 to 0.06022, saving model to /content/drive/MyDrive/KASHIF DEEP LEARNING/transfer learning/##GRAPH/Fibal/weifgt_00.h5\n",
            "48/48 [==============================] - 26s 545ms/step - loss: 0.0224 - accuracy: 0.9974 - val_loss: 0.0602 - val_accuracy: 0.9794 - lr: 0.0100\n",
            "Epoch 24/100\n",
            "48/48 [==============================] - ETA: 0s - loss: 0.0189 - accuracy: 0.9980\n",
            "Epoch 00024: val_loss improved from 0.06022 to 0.05901, saving model to /content/drive/MyDrive/KASHIF DEEP LEARNING/transfer learning/##GRAPH/Fibal/weifgt_00.h5\n",
            "48/48 [==============================] - 26s 546ms/step - loss: 0.0189 - accuracy: 0.9980 - val_loss: 0.0590 - val_accuracy: 0.9776 - lr: 0.0100\n",
            "Epoch 25/100\n",
            "48/48 [==============================] - ETA: 0s - loss: 0.0215 - accuracy: 0.9974\n",
            "Epoch 00025: val_loss did not improve from 0.05901\n",
            "48/48 [==============================] - 25s 521ms/step - loss: 0.0215 - accuracy: 0.9974 - val_loss: 0.0704 - val_accuracy: 0.9776 - lr: 0.0100\n",
            "Epoch 26/100\n",
            "48/48 [==============================] - ETA: 0s - loss: 0.0200 - accuracy: 0.9977\n",
            "Epoch 00026: val_loss did not improve from 0.05901\n",
            "48/48 [==============================] - 25s 522ms/step - loss: 0.0200 - accuracy: 0.9977 - val_loss: 0.0630 - val_accuracy: 0.9813 - lr: 0.0100\n",
            "Epoch 27/100\n",
            "48/48 [==============================] - ETA: 0s - loss: 0.0179 - accuracy: 0.9984\n",
            "Epoch 00027: val_loss did not improve from 0.05901\n",
            "48/48 [==============================] - 25s 526ms/step - loss: 0.0179 - accuracy: 0.9984 - val_loss: 0.0816 - val_accuracy: 0.9776 - lr: 0.0100\n",
            "Epoch 28/100\n",
            "48/48 [==============================] - ETA: 0s - loss: 0.0217 - accuracy: 0.9970\n",
            "Epoch 00028: val_loss did not improve from 0.05901\n",
            "48/48 [==============================] - 25s 522ms/step - loss: 0.0217 - accuracy: 0.9970 - val_loss: 0.0825 - val_accuracy: 0.9776 - lr: 0.0100\n",
            "Epoch 29/100\n",
            "48/48 [==============================] - ETA: 0s - loss: 0.0172 - accuracy: 0.9990\n",
            "Epoch 00029: val_loss did not improve from 0.05901\n",
            "48/48 [==============================] - 25s 521ms/step - loss: 0.0172 - accuracy: 0.9990 - val_loss: 0.0705 - val_accuracy: 0.9794 - lr: 0.0100\n"
          ]
        }
      ]
    },
    {
      "cell_type": "code",
      "metadata": {
        "id": "JhOzjPxaLuan"
      },
      "source": [
        "model.save('/content/drive/MyDrive/KASHIF DEEP LEARNING/transfer learning/##GRAPH/Fibal/model_00.h5')"
      ],
      "execution_count": 21,
      "outputs": []
    },
    {
      "cell_type": "code",
      "metadata": {
        "colab": {
          "base_uri": "https://localhost:8080/",
          "height": 434
        },
        "id": "UnMCOhziMqwB",
        "outputId": "b4b608bf-99c3-41be-fcfd-ac6299876e9e"
      },
      "source": [
        "accuracy = history.history['accuracy']\n",
        "val_accuracy  = history.history['val_accuracy']\n",
        "\n",
        "loss = history.history['loss']\n",
        "val_loss = history.history['val_loss']\n",
        "\n",
        "\n",
        "plt.figure(figsize=(20,15))\n",
        "\n",
        "plt.subplot(2, 2, 1)\n",
        "plt.plot(accuracy, label = \"Training accuracy\")\n",
        "plt.plot(val_accuracy, label=\"Validation accuracy\")\n",
        "plt.legend()\n",
        "plt.title(\"Training vs validation accuracy\")\n",
        "\n",
        "\n",
        "plt.subplot(2,2,2)\n",
        "plt.plot(loss, label = \"Training loss\")\n",
        "plt.plot(val_loss, label=\"Validation loss\")\n",
        "plt.legend()\n",
        "plt.title(\"Training vs validation loss\")\n",
        "\n",
        "plt.show()"
      ],
      "execution_count": 22,
      "outputs": [
        {
          "output_type": "display_data",
          "data": {
            "image/png": "[encoded data removed]",
            "text/plain": [
              "<Figure size 1440x1080 with 2 Axes>"
            ]
          },
          "metadata": {
            "needs_background": "light"
          }
        }
      ]
    },
    {
      "cell_type": "code",
      "metadata": {
        "colab": {
          "base_uri": "https://localhost:8080/"
        },
        "id": "sV4_JSFUNDp4",
        "outputId": "f6019a05-b137-4bac-ca93-a27377e2d27e"
      },
      "source": [
        "pred = model.predict(test_images)\n",
        "pred = np.argmax(pred, axis=1)\n",
        "\n",
        "labels = train_images.class_indices\n",
        "labels = dict((v,k) for k, v in labels.items())\n",
        "\n",
        "print(labels)\n",
        "print(pred)"
      ],
      "execution_count": 23,
      "outputs": [
        {
          "output_type": "stream",
          "name": "stdout",
          "text": [
            "{0: 'apr', 1: 'aug', 2: 'dec', 3: 'feb', 4: 'jan', 5: 'jul', 6: 'jun', 7: 'mar', 8: 'may', 9: 'nov', 10: 'oct', 11: 'sep'}\n",
            "[ 8  6  3  4  7  5  0  7  8 10  6  2  9 10  8  9  4  4  3  2  4  7  2  9\n",
            "  3  5 11  0  0 10  6  1  5  0  5  0  9  5  7  4 11  4  3 10  5  4  8 10\n",
            "  9  8  4  7  0  0  2  4 11  5  8  6  3 10  6  2  8  3  9  1  6  3  1  2\n",
            "  7  8  2  1  8  1  6  0 11  3  2  5 11  8  0  7  3  6  2  6  5  2  5  7\n",
            "  2  3  7  9 11  2  8 11  2  7 10  7  1  3 10  3  2  3  9  4  0  5  1  1\n",
            " 10 10  7  4  8  3  3  8  0  0  3  3 11  7  5  7 11  2  2  1  0  8  1  4\n",
            "  9  8  2  3  6 11  6  2  9  2 11  6 11  9  8 11  2  0  6  6  1  8  2  4\n",
            "  9 11  6  1  8  8  2 11  7 11  9  7  3  3  5 11  5  2  4  3  6  1  3 10\n",
            "  1  7  2  3 11  8  6 11  2  6 10  1  7  6  5  2  3 10  4  8  4 10  0  5\n",
            " 10  8  0  4  4  3  6 10  9  4  5  9  4  9  6  9  1  3 11  5  4 11  0  5\n",
            "  7  1  6  6  3  7  0  0  4  0  8  7  5  7  7  9  3 11  8  7  1  2  5  2\n",
            "  8 11  4  5  8  6  6  7  1  0  2  2  8  8  0  1  1 10 11  2  2  8  9  5\n",
            "  8  9 10 10  3  5  8 10  1  4  8 11  8  8 11  7  3  3  5  4  0  4  6  3\n",
            "  7  7  3  7  5 11  0  5  2  3 11  6  2  6  3  3  7  7  8  4  5  0  1  7\n",
            "  4  2  5  3  9  0  6  5 10  4  5  8  6  0  2  7  2 11 11  1 10  0  1  4\n",
            "  5  9  0  5  0  2  3  3  5 10  3  8  4  1  8  8  2  9  0 11 11  1  6  7\n",
            "  5  9  6  9  8  0 10  5  0  5  6  3  0  3  5 10  7  5 11  3  2  4  8  1\n",
            "  2 10  9  4  1  9 10  6  4 10  7  0  2 10  9  6  8  9 10  2  1 10  4  7\n",
            " 10  4  1 11  2  3  8  5  5  5  8  6  0  4 11  1  4  2  9  8  3  8  2 10\n",
            "  3  1 10  2 10 11  3  7  2  5  1  0  2  1  0 11  3  7 11 11  8 11  7 11\n",
            "  6  3  3  1  4  8  8  0  6 10  6  5  1  1 11  2  1  8  4  4  6  6  5  4\n",
            " 11  9  8  1  2  7  6 11  5  5  7  5  8  4  9  7  6 10  1  7  6 11  3  5\n",
            " 10  0  4  5  1 10  2  0  9 10  0  2 11 10 11  6 10  0 10  7  7  9  9  6\n",
            " 10  3  4  4  3  3  9  7  0 11  7  6  7  9  2 10  4  8  4  5  4  7  7  0\n",
            "  5  9  5  4 11  1  4 10 11 11  6 11  3 10  4  8  7  0  3  9 10  9  4  8\n",
            "  9  2  9  6  7  0  5  5 11  6  8 10  1  3 11  1  0  3  9 11  9 10  7  9\n",
            "  0  1  7  8  4  8]\n"
          ]
        }
      ]
    },
    {
      "cell_type": "code",
      "metadata": {
        "id": "jkOT_LmhjmPE"
      },
      "source": [
        "y_pred = [labels[k] for k in pred]"
      ],
      "execution_count": 24,
      "outputs": []
    },
    {
      "cell_type": "code",
      "metadata": {
        "colab": {
          "base_uri": "https://localhost:8080/"
        },
        "id": "B0wg6_b2kAaB",
        "outputId": "53205f56-1a59-49c4-f679-95d0d4586c0e"
      },
      "source": [
        "print(classification_report(test_df.Labels, y_pred))"
      ],
      "execution_count": 25,
      "outputs": [
        {
          "output_type": "stream",
          "name": "stdout",
          "text": [
            "              precision    recall  f1-score   support\n",
            "\n",
            "         apr       0.98      1.00      0.99        48\n",
            "         aug       1.00      0.92      0.96        50\n",
            "         dec       1.00      0.93      0.96        59\n",
            "         feb       0.91      1.00      0.95        53\n",
            "         jan       0.98      0.96      0.97        55\n",
            "         jul       0.96      0.98      0.97        54\n",
            "         jun       0.94      1.00      0.97        47\n",
            "         mar       1.00      0.95      0.97        58\n",
            "         may       1.00      0.97      0.98        60\n",
            "         nov       0.96      0.96      0.96        45\n",
            "         oct       0.98      0.96      0.97        51\n",
            "         sep       0.91      1.00      0.95        50\n",
            "\n",
            "    accuracy                           0.97       630\n",
            "   macro avg       0.97      0.97      0.97       630\n",
            "weighted avg       0.97      0.97      0.97       630\n",
            "\n"
          ]
        }
      ]
    },
    {
      "cell_type": "code",
      "metadata": {
        "colab": {
          "base_uri": "https://localhost:8080/"
        },
        "id": "2AJXL1k-kCLF",
        "outputId": "7f5923b0-036c-4635-fdbc-1dc84c61500e"
      },
      "source": [
        "print(confusion_matrix(test_df.Labels, y_pred))"
      ],
      "execution_count": 26,
      "outputs": [
        {
          "output_type": "stream",
          "name": "stdout",
          "text": [
            "[[48  0  0  0  0  0  0  0  0  0  0  0]\n",
            " [ 0 46  0  1  1  0  2  0  0  0  0  0]\n",
            " [ 0  0 55  0  0  0  0  0  0  0  0  4]\n",
            " [ 0  0  0 53  0  0  0  0  0  0  0  0]\n",
            " [ 0  0  0  2 53  0  0  0  0  0  0  0]\n",
            " [ 0  0  0  1  0 53  0  0  0  0  0  0]\n",
            " [ 0  0  0  0  0  0 47  0  0  0  0  0]\n",
            " [ 1  0  0  0  0  1  1 55  0  0  0  0]\n",
            " [ 0  0  0  0  0  1  0  0 58  1  0  0]\n",
            " [ 0  0  0  1  0  0  0  0  0 43  1  0]\n",
            " [ 0  0  0  0  0  0  0  0  0  1 49  1]\n",
            " [ 0  0  0  0  0  0  0  0  0  0  0 50]]\n"
          ]
        }
      ]
    },
    {
      "cell_type": "code",
      "metadata": {
        "id": "kcPaWEMhlNbq"
      },
      "source": [
        ""
      ],
      "execution_count": null,
      "outputs": []
    }
  ]
}
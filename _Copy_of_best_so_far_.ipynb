{
  "nbformat": 4,
  "nbformat_minor": 0,
  "metadata": {
    "colab": {
      "name": "***** Copy of best_so_far *****.ipynb",
      "provenance": [],
      "collapsed_sections": []
    },
    "kernelspec": {
      "name": "python3",
      "display_name": "Python 3"
    },
    "language_info": {
      "name": "python"
    },
    "accelerator": "GPU"
  },
  "cells": [
    {
      "cell_type": "code",
      "metadata": {
        "id": "MXRladmzyyEH"
      },
      "source": [
        ""
      ],
      "execution_count": null,
      "outputs": []
    },
    {
      "cell_type": "code",
      "metadata": {
        "id": "M0xPrQqzy1F5"
      },
      "source": [
        "from tensorflow.keras.applications.vgg16 import VGG16\n",
        "from tensorflow.keras.preprocessing import image\n",
        "from keras.preprocessing.image import ImageDataGenerator\n",
        "from tensorflow.keras.models import Model,load_model\n",
        "from tensorflow.keras.layers import Dense, Flatten, Dropout\n",
        "import glob\n",
        "import matplotlib.pyplot as plt\n",
        "import cv2\n",
        "import numpy as np\n",
        "import keras\n",
        "import tensorflow as tf\n",
        "\n",
        "\n",
        "\n",
        "\n",
        "\n",
        "test_dir = '/content/drive/MyDrive/KASHIF DEEP LEARNING/transfer learning/ Jason Brownlee/dataBase/test'\n",
        "\n",
        "validation_dir = '/content/drive/MyDrive/KASHIF DEEP LEARNING/transfer learning/ Jason Brownlee/dataBase/val'\n",
        "\n",
        "train_dir = '/content/drive/MyDrive/KASHIF DEEP LEARNING/transfer learning/ Jason Brownlee/dataBase/train'"
      ],
      "execution_count": 1,
      "outputs": []
    },
    {
      "cell_type": "code",
      "metadata": {
        "colab": {
          "base_uri": "https://localhost:8080/"
        },
        "id": "r8LTqcbuW108",
        "outputId": "5091558e-89e8-4e9d-8f71-4b5f939b971d"
      },
      "source": [
        "image_size=[263,173]\n",
        "\n",
        "\n",
        "datagen = ImageDataGenerator(rescale=1.0/255)\n",
        "train_generator = datagen.flow_from_directory(train_dir, class_mode='categorical', batch_size=32,target_size=image_size)\n",
        "valid_generator = datagen.flow_from_directory(validation_dir, class_mode='categorical', batch_size=32,target_size=image_size)\n",
        "test_generator = datagen.flow_from_directory(test_dir, class_mode='categorical', batch_size=32,target_size=image_size)\n"
      ],
      "execution_count": 2,
      "outputs": [
        {
          "output_type": "stream",
          "name": "stdout",
          "text": [
            "Found 4200 images belonging to 12 classes.\n",
            "Found 1200 images belonging to 12 classes.\n",
            "Found 600 images belonging to 12 classes.\n"
          ]
        }
      ]
    },
    {
      "cell_type": "code",
      "metadata": {
        "id": "cA43dyBHW12m"
      },
      "source": [
        ""
      ],
      "execution_count": 2,
      "outputs": []
    },
    {
      "cell_type": "code",
      "metadata": {
        "id": "s2OFtZONW14R"
      },
      "source": [
        ""
      ],
      "execution_count": 2,
      "outputs": []
    },
    {
      "cell_type": "code",
      "metadata": {
        "id": "TCRjrnL7W16P"
      },
      "source": [
        ""
      ],
      "execution_count": 2,
      "outputs": []
    },
    {
      "cell_type": "code",
      "metadata": {
        "id": "IHMPYAvYW182"
      },
      "source": [
        ""
      ],
      "execution_count": 2,
      "outputs": []
    },
    {
      "cell_type": "code",
      "metadata": {
        "id": "kXwbj40jy1H8"
      },
      "source": [
        "from keras.models import Sequential, Model, load_model\n",
        "from keras import applications\n",
        "from keras import optimizers\n",
        "from keras.layers import Dropout, Flatten, Dense\n",
        "from keras.applications.vgg16 import VGG16\n",
        "\n",
        "image_size=[263,173]\n",
        "\n",
        "base_model = VGG16(weights='imagenet', include_top=False, input_shape=(263,173, 3))\n",
        "\n",
        "\n",
        "\n"
      ],
      "execution_count": 3,
      "outputs": []
    },
    {
      "cell_type": "code",
      "metadata": {
        "id": "00RRPdcfV7n9"
      },
      "source": [
        "for layer in base_model.layers:\n",
        "    layer.trainable = False"
      ],
      "execution_count": 4,
      "outputs": []
    },
    {
      "cell_type": "code",
      "metadata": {
        "id": "BH34RwMVy-x0"
      },
      "source": [
        "add_model = Sequential()\n",
        "add_model.add(Flatten(input_shape=base_model.output_shape[1:]))\n",
        "# add_model.add(Dense(256, activation='relu'))\n",
        "add_model.add(Dense(12, activation='softmax'))\n"
      ],
      "execution_count": 5,
      "outputs": []
    },
    {
      "cell_type": "code",
      "metadata": {
        "id": "Q0MVi39zWb7k"
      },
      "source": [
        "\n",
        "model = Model(inputs=base_model.input, outputs=add_model(base_model.output))\n"
      ],
      "execution_count": 6,
      "outputs": []
    },
    {
      "cell_type": "code",
      "metadata": {
        "id": "U8PxS5kTWnlj"
      },
      "source": [
        "\n",
        "\n",
        "model.compile(loss='categorical_crossentropy', \n",
        "              optimizer=tf.keras.optimizers.SGD(learning_rate=0.01, momentum=0.9, nesterov=True) ,\n",
        "              metrics=['accuracy'] ,)"
      ],
      "execution_count": 7,
      "outputs": []
    },
    {
      "cell_type": "code",
      "metadata": {
        "colab": {
          "base_uri": "https://localhost:8080/"
        },
        "id": "hRIafvptXg8K",
        "outputId": "76714349-a8ca-4e9c-91aa-b4ad630da983"
      },
      "source": [
        "from keras.callbacks import ModelCheckpoint, LearningRateScheduler, EarlyStopping, ReduceLROnPlateau\n",
        "weight_path='/content/drive/MyDrive/KASHIF DEEP LEARNING/transfer learning/##GRAPH/root/weight_00.h5'\n",
        "\n",
        "checkpoint = ModelCheckpoint(weight_path, monitor='val_loss', verbose=1, \n",
        "                             save_best_only=True, mode='min', save_weights_only = True)\n",
        "\n",
        "\n",
        "reduceLROnPlat = ReduceLROnPlateau(monitor='val_loss', factor=0.8, patience=10, verbose=1, mode='auto', epsilon=0.0001, cooldown=5, min_lr=0.0001)\n",
        "early = EarlyStopping(monitor=\"val_loss\", \n",
        "                      mode=\"min\", \n",
        "                      patience=5) # probably needs to be more patient, but kaggle time is limited\n",
        "callbacks_list = [checkpoint, early, reduceLROnPlat]"
      ],
      "execution_count": 8,
      "outputs": [
        {
          "output_type": "stream",
          "name": "stdout",
          "text": [
            "WARNING:tensorflow:`epsilon` argument is deprecated and will be removed, use `min_delta` instead.\n"
          ]
        }
      ]
    },
    {
      "cell_type": "code",
      "metadata": {
        "colab": {
          "base_uri": "https://localhost:8080/"
        },
        "id": "kDiUm8RJX-8D",
        "outputId": "1c4bcd6f-5367-449e-a69e-19b4394fda18"
      },
      "source": [
        "history  = model.fit(\n",
        "\n",
        "\n",
        "                     train_generator,\n",
        "                     batch_size=32,\n",
        "                     epochs=100,\n",
        "                     verbose='auto',\n",
        "                     callbacks=callbacks_list,\n",
        "                     validation_split=0.0, \n",
        "                     validation_data=valid_generator,\n",
        "                     shuffle=True,\n",
        "                     class_weight=None,\n",
        "                     sample_weight=None,\n",
        "                     initial_epoch=0,\n",
        "                     steps_per_epoch=4200/32,\n",
        "                     validation_steps=1200/32,\n",
        "                     validation_batch_size=None,\n",
        "                     validation_freq=1,\n",
        "                     max_queue_size=10,\n",
        "                     workers=1,\n",
        "                     use_multiprocessing=False)"
      ],
      "execution_count": 9,
      "outputs": [
        {
          "output_type": "stream",
          "name": "stdout",
          "text": [
            "Epoch 1/100\n",
            "132/131 [==============================] - ETA: 0s - loss: 27.2261 - accuracy: 0.4571\n",
            "Epoch 00001: val_loss improved from inf to 0.40520, saving model to /content/drive/MyDrive/KASHIF DEEP LEARNING/transfer learning/##GRAPH/root/weight_00.h5\n",
            "131/131 [==============================] - 60s 375ms/step - loss: 27.2261 - accuracy: 0.4571 - val_loss: 0.4052 - val_accuracy: 0.9008 - lr: 0.0100\n",
            "Epoch 2/100\n",
            "132/131 [==============================] - ETA: 0s - loss: 0.5822 - accuracy: 0.8750\n",
            "Epoch 00002: val_loss improved from 0.40520 to 0.28452, saving model to /content/drive/MyDrive/KASHIF DEEP LEARNING/transfer learning/##GRAPH/root/weight_00.h5\n",
            "131/131 [==============================] - 42s 316ms/step - loss: 0.5822 - accuracy: 0.8750 - val_loss: 0.2845 - val_accuracy: 0.9225 - lr: 0.0100\n",
            "Epoch 3/100\n",
            "132/131 [==============================] - ETA: 0s - loss: 0.3323 - accuracy: 0.9167\n",
            "Epoch 00003: val_loss did not improve from 0.28452\n",
            "131/131 [==============================] - 41s 310ms/step - loss: 0.3323 - accuracy: 0.9167 - val_loss: 0.3215 - val_accuracy: 0.9150 - lr: 0.0100\n",
            "Epoch 4/100\n",
            "132/131 [==============================] - ETA: 0s - loss: 0.2167 - accuracy: 0.9398\n",
            "Epoch 00004: val_loss improved from 0.28452 to 0.26272, saving model to /content/drive/MyDrive/KASHIF DEEP LEARNING/transfer learning/##GRAPH/root/weight_00.h5\n",
            "131/131 [==============================] - 42s 317ms/step - loss: 0.2167 - accuracy: 0.9398 - val_loss: 0.2627 - val_accuracy: 0.9233 - lr: 0.0100\n",
            "Epoch 5/100\n",
            "132/131 [==============================] - ETA: 0s - loss: 0.1958 - accuracy: 0.9457\n",
            "Epoch 00005: val_loss did not improve from 0.26272\n",
            "131/131 [==============================] - 41s 310ms/step - loss: 0.1958 - accuracy: 0.9457 - val_loss: 0.3280 - val_accuracy: 0.9208 - lr: 0.0100\n",
            "Epoch 6/100\n",
            "132/131 [==============================] - ETA: 0s - loss: 0.1709 - accuracy: 0.9514\n",
            "Epoch 00006: val_loss improved from 0.26272 to 0.24203, saving model to /content/drive/MyDrive/KASHIF DEEP LEARNING/transfer learning/##GRAPH/root/weight_00.h5\n",
            "131/131 [==============================] - 41s 315ms/step - loss: 0.1709 - accuracy: 0.9514 - val_loss: 0.2420 - val_accuracy: 0.9350 - lr: 0.0100\n",
            "Epoch 7/100\n",
            "132/131 [==============================] - ETA: 0s - loss: 0.1180 - accuracy: 0.9607\n",
            "Epoch 00007: val_loss improved from 0.24203 to 0.17657, saving model to /content/drive/MyDrive/KASHIF DEEP LEARNING/transfer learning/##GRAPH/root/weight_00.h5\n",
            "131/131 [==============================] - 41s 315ms/step - loss: 0.1180 - accuracy: 0.9607 - val_loss: 0.1766 - val_accuracy: 0.9500 - lr: 0.0100\n",
            "Epoch 8/100\n",
            "132/131 [==============================] - ETA: 0s - loss: 0.1078 - accuracy: 0.9640\n",
            "Epoch 00008: val_loss improved from 0.17657 to 0.13505, saving model to /content/drive/MyDrive/KASHIF DEEP LEARNING/transfer learning/##GRAPH/root/weight_00.h5\n",
            "131/131 [==============================] - 42s 316ms/step - loss: 0.1078 - accuracy: 0.9640 - val_loss: 0.1350 - val_accuracy: 0.9608 - lr: 0.0100\n",
            "Epoch 9/100\n",
            "132/131 [==============================] - ETA: 0s - loss: 0.1164 - accuracy: 0.9657\n",
            "Epoch 00009: val_loss did not improve from 0.13505\n",
            "131/131 [==============================] - 41s 310ms/step - loss: 0.1164 - accuracy: 0.9657 - val_loss: 0.1366 - val_accuracy: 0.9633 - lr: 0.0100\n",
            "Epoch 10/100\n",
            "132/131 [==============================] - ETA: 0s - loss: 0.0636 - accuracy: 0.9776\n",
            "Epoch 00010: val_loss did not improve from 0.13505\n",
            "131/131 [==============================] - 41s 309ms/step - loss: 0.0636 - accuracy: 0.9776 - val_loss: 0.1879 - val_accuracy: 0.9458 - lr: 0.0100\n",
            "Epoch 11/100\n",
            "132/131 [==============================] - ETA: 0s - loss: 0.0430 - accuracy: 0.9850\n",
            "Epoch 00011: val_loss did not improve from 0.13505\n",
            "131/131 [==============================] - 41s 308ms/step - loss: 0.0430 - accuracy: 0.9850 - val_loss: 0.1896 - val_accuracy: 0.9508 - lr: 0.0100\n",
            "Epoch 12/100\n",
            "132/131 [==============================] - ETA: 0s - loss: 0.0473 - accuracy: 0.9850\n",
            "Epoch 00012: val_loss improved from 0.13505 to 0.12796, saving model to /content/drive/MyDrive/KASHIF DEEP LEARNING/transfer learning/##GRAPH/root/weight_00.h5\n",
            "131/131 [==============================] - 41s 315ms/step - loss: 0.0473 - accuracy: 0.9850 - val_loss: 0.1280 - val_accuracy: 0.9642 - lr: 0.0100\n",
            "Epoch 13/100\n",
            "132/131 [==============================] - ETA: 0s - loss: 0.0627 - accuracy: 0.9793\n",
            "Epoch 00013: val_loss did not improve from 0.12796\n",
            "131/131 [==============================] - 41s 310ms/step - loss: 0.0627 - accuracy: 0.9793 - val_loss: 0.2115 - val_accuracy: 0.9342 - lr: 0.0100\n",
            "Epoch 14/100\n",
            "132/131 [==============================] - ETA: 0s - loss: 0.0543 - accuracy: 0.9826\n",
            "Epoch 00014: val_loss improved from 0.12796 to 0.09575, saving model to /content/drive/MyDrive/KASHIF DEEP LEARNING/transfer learning/##GRAPH/root/weight_00.h5\n",
            "131/131 [==============================] - 41s 315ms/step - loss: 0.0543 - accuracy: 0.9826 - val_loss: 0.0957 - val_accuracy: 0.9708 - lr: 0.0100\n",
            "Epoch 15/100\n",
            "132/131 [==============================] - ETA: 0s - loss: 0.0427 - accuracy: 0.9864\n",
            "Epoch 00015: val_loss improved from 0.09575 to 0.07482, saving model to /content/drive/MyDrive/KASHIF DEEP LEARNING/transfer learning/##GRAPH/root/weight_00.h5\n",
            "131/131 [==============================] - 41s 316ms/step - loss: 0.0427 - accuracy: 0.9864 - val_loss: 0.0748 - val_accuracy: 0.9792 - lr: 0.0100\n",
            "Epoch 16/100\n",
            "132/131 [==============================] - ETA: 0s - loss: 0.1367 - accuracy: 0.9712\n",
            "Epoch 00016: val_loss did not improve from 0.07482\n",
            "131/131 [==============================] - 41s 309ms/step - loss: 0.1367 - accuracy: 0.9712 - val_loss: 0.0899 - val_accuracy: 0.9758 - lr: 0.0100\n",
            "Epoch 17/100\n",
            "132/131 [==============================] - ETA: 0s - loss: 0.0418 - accuracy: 0.9838\n",
            "Epoch 00017: val_loss did not improve from 0.07482\n",
            "131/131 [==============================] - 41s 309ms/step - loss: 0.0418 - accuracy: 0.9838 - val_loss: 0.0827 - val_accuracy: 0.9800 - lr: 0.0100\n",
            "Epoch 18/100\n",
            "132/131 [==============================] - ETA: 0s - loss: 0.0310 - accuracy: 0.9893\n",
            "Epoch 00018: val_loss did not improve from 0.07482\n",
            "131/131 [==============================] - 41s 309ms/step - loss: 0.0310 - accuracy: 0.9893 - val_loss: 0.1162 - val_accuracy: 0.9617 - lr: 0.0100\n",
            "Epoch 19/100\n",
            "132/131 [==============================] - ETA: 0s - loss: 0.0456 - accuracy: 0.9876\n",
            "Epoch 00019: val_loss did not improve from 0.07482\n",
            "131/131 [==============================] - 41s 309ms/step - loss: 0.0456 - accuracy: 0.9876 - val_loss: 0.0981 - val_accuracy: 0.9717 - lr: 0.0100\n",
            "Epoch 20/100\n",
            "132/131 [==============================] - ETA: 0s - loss: 0.0312 - accuracy: 0.9910\n",
            "Epoch 00020: val_loss did not improve from 0.07482\n",
            "131/131 [==============================] - 41s 309ms/step - loss: 0.0312 - accuracy: 0.9910 - val_loss: 0.0802 - val_accuracy: 0.9742 - lr: 0.0100\n"
          ]
        }
      ]
    },
    {
      "cell_type": "code",
      "metadata": {
        "id": "x8yk57UHYHDa"
      },
      "source": [
        "model.save('/content/drive/MyDrive/KASHIF DEEP LEARNING/transfer learning/##GRAPH/root/model_00.h5')"
      ],
      "execution_count": 10,
      "outputs": []
    },
    {
      "cell_type": "code",
      "metadata": {
        "id": "DRWLaJkdYT4U"
      },
      "source": [
        "\n",
        "vgg16_saved = keras.models.load_model('/content/drive/MyDrive/KASHIF DEEP LEARNING/transfer learning/##GRAPH/root/model_00.h5')\n"
      ],
      "execution_count": 11,
      "outputs": []
    },
    {
      "cell_type": "code",
      "metadata": {
        "colab": {
          "base_uri": "https://localhost:8080/"
        },
        "id": "IXHFaAJIYea0",
        "outputId": "953a6406-cc6b-430a-9804-8f3f794caffc"
      },
      "source": [
        "vgg16_saved.evaluate(test_generator)"
      ],
      "execution_count": 12,
      "outputs": [
        {
          "output_type": "stream",
          "name": "stdout",
          "text": [
            "19/19 [==============================] - 12s 618ms/step - loss: 0.0809 - accuracy: 0.9783\n"
          ]
        },
        {
          "output_type": "execute_result",
          "data": {
            "text/plain": [
              "[0.08092642575502396, 0.9783333539962769]"
            ]
          },
          "metadata": {},
          "execution_count": 12
        }
      ]
    },
    {
      "cell_type": "code",
      "metadata": {
        "colab": {
          "base_uri": "https://localhost:8080/",
          "height": 434
        },
        "id": "ECkG1GWUYm5F",
        "outputId": "e4cab6d8-6962-4848-ef58-29c3900cd66a"
      },
      "source": [
        "accuracy = history.history['accuracy']\n",
        "val_accuracy  = history.history['val_accuracy']\n",
        "\n",
        "loss = history.history['loss']\n",
        "val_loss = history.history['val_loss']\n",
        "\n",
        "\n",
        "plt.figure(figsize=(20,15))\n",
        "\n",
        "plt.subplot(2, 2, 1)\n",
        "plt.plot(accuracy, label = \"Training accuracy\")\n",
        "plt.plot(val_accuracy, label=\"Validation accuracy\")\n",
        "plt.legend()\n",
        "plt.title(\"Training vs validation accuracy\")\n",
        "\n",
        "\n",
        "plt.subplot(2,2,2)\n",
        "plt.plot(loss, label = \"Training loss\")\n",
        "plt.plot(val_loss, label=\"Validation loss\")\n",
        "plt.legend()\n",
        "plt.title(\"Training vs validation loss\")\n",
        "\n",
        "plt.show()"
      ],
      "execution_count": 19,
      "outputs": [
        {
          "output_type": "display_data",
          "data": {
            "image/png": "[encoded data removed]",
            "text/plain": [
              "<Figure size 1440x1080 with 2 Axes>"
            ]
          },
          "metadata": {
            "needs_background": "light"
          }
        }
      ]
    },
    {
      "cell_type": "code",
      "metadata": {
        "id": "_h_r7E9Wh8_p"
      },
      "source": [
        ""
      ],
      "execution_count": 13,
      "outputs": []
    },
    {
      "cell_type": "code",
      "metadata": {
        "id": "tPj-l4vCh9Et"
      },
      "source": [
        ""
      ],
      "execution_count": 13,
      "outputs": []
    },
    {
      "cell_type": "code",
      "metadata": {
        "id": "sC08L4lAh9HI"
      },
      "source": [
        "ledom = vgg16_saved\n",
        "test = test_generator"
      ],
      "execution_count": 14,
      "outputs": []
    },
    {
      "cell_type": "code",
      "metadata": {
        "id": "zpEdkp3kh9J7"
      },
      "source": [
        "y_pred = ledom.predict(test)\n",
        "y_pred = np.argmax(y_pred,axis=1)"
      ],
      "execution_count": 15,
      "outputs": []
    },
    {
      "cell_type": "code",
      "metadata": {
        "colab": {
          "base_uri": "https://localhost:8080/"
        },
        "id": "fjvHvdaah9NS",
        "outputId": "4ddeb869-d665-4012-bc48-c845f3a18435"
      },
      "source": [
        "from sklearn.metrics import classification_report, confusion_matrix\n",
        "print(classification_report(test.labels,y_pred))"
      ],
      "execution_count": 16,
      "outputs": [
        {
          "output_type": "stream",
          "name": "stdout",
          "text": [
            "              precision    recall  f1-score   support\n",
            "\n",
            "           0       0.12      0.12      0.12        50\n",
            "           1       0.10      0.10      0.10        50\n",
            "           2       0.12      0.12      0.12        50\n",
            "           3       0.08      0.08      0.08        50\n",
            "           4       0.09      0.08      0.08        50\n",
            "           5       0.12      0.12      0.12        50\n",
            "           6       0.15      0.14      0.14        50\n",
            "           7       0.02      0.02      0.02        50\n",
            "           8       0.11      0.12      0.12        50\n",
            "           9       0.10      0.10      0.10        50\n",
            "          10       0.10      0.10      0.10        50\n",
            "          11       0.05      0.06      0.06        50\n",
            "\n",
            "    accuracy                           0.10       600\n",
            "   macro avg       0.10      0.10      0.10       600\n",
            "weighted avg       0.10      0.10      0.10       600\n",
            "\n"
          ]
        }
      ]
    },
    {
      "cell_type": "code",
      "metadata": {
        "id": "y6NxhBGth9O-"
      },
      "source": [
        "import pandas as pd\n",
        "classes=[i for i in range(12)]\n",
        "con_mat_df = pd.DataFrame(confusion_matrix(test.labels,y_pred),\n",
        "                     index = classes, \n",
        "                     columns = classes)"
      ],
      "execution_count": 17,
      "outputs": []
    },
    {
      "cell_type": "code",
      "metadata": {
        "colab": {
          "base_uri": "https://localhost:8080/",
          "height": 501
        },
        "id": "2lwMrAqUh9Rk",
        "outputId": "1d5e2283-b66c-46f6-bd3a-0016584621c7"
      },
      "source": [
        "import seaborn as sns\n",
        "import matplotlib.pyplot as plt\n",
        "figure = plt.figure(figsize=(15, 8))\n",
        "sns.heatmap(con_mat_df, annot=True,cmap=plt.cm.cool,fmt='d')\n",
        "plt.ylabel('Actual')\n",
        "plt.xlabel('Predicted')\n",
        "plt.show()"
      ],
      "execution_count": 18,
      "outputs": [
        {
          "output_type": "display_data",
          "data": {
            "image/png": "[encoded data removed]",
            "text/plain": [
              "<Figure size 1080x576 with 2 Axes>"
            ]
          },
          "metadata": {
            "needs_background": "light"
          }
        }
      ]
    },
    {
      "cell_type": "code",
      "metadata": {
        "id": "IaATUdkuinjx"
      },
      "source": [
        ""
      ],
      "execution_count": 18,
      "outputs": []
    }
  ]
}
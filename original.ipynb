{
  "nbformat": 4,
  "nbformat_minor": 0,
  "metadata": {
    "colab": {
      "name": "original.ipynb",
      "provenance": [],
      "collapsed_sections": []
    },
    "kernelspec": {
      "name": "python3",
      "display_name": "Python 3"
    },
    "language_info": {
      "name": "python"
    },
    "accelerator": "GPU"
  },
  "cells": [
    {
      "cell_type": "code",
      "metadata": {
        "id": "Xcn6Rik_KeJh"
      },
      "source": [
        "from tensorflow.keras.applications.vgg16 import VGG16\n",
        "from tensorflow.keras.preprocessing import image\n",
        "from keras.preprocessing.image import ImageDataGenerator\n",
        "from tensorflow.keras.models import Model,load_model\n",
        "from tensorflow.keras.layers import Dense, Flatten, Dropout\n",
        "import glob\n",
        "import matplotlib.pyplot as plt\n",
        "import cv2\n",
        "import numpy as np\n",
        "import keras\n",
        "import tensorflow as tf\n",
        "\n",
        "\n",
        "\n",
        "test_dir = '/content/drive/MyDrive/KASHIF DEEP LEARNING/transfer learning/ Jason Brownlee/dataBase/test'\n",
        "\n",
        "validation_dir = '/content/drive/MyDrive/KASHIF DEEP LEARNING/transfer learning/ Jason Brownlee/dataBase/val'\n",
        "\n",
        "train_dir = '/content/drive/MyDrive/KASHIF DEEP LEARNING/transfer learning/ Jason Brownlee/dataBase/train'"
      ],
      "execution_count": 1,
      "outputs": []
    },
    {
      "cell_type": "code",
      "metadata": {
        "id": "pKUPCCuONPQP"
      },
      "source": [
        "image_size=[263,173]\n"
      ],
      "execution_count": 2,
      "outputs": []
    },
    {
      "cell_type": "code",
      "metadata": {
        "colab": {
          "base_uri": "https://localhost:8080/"
        },
        "id": "mjS0nkiSNQjp",
        "outputId": "af1db6db-2e5e-4e5b-b24b-76fa3e470738"
      },
      "source": [
        "datagen = ImageDataGenerator(rescale=1.0/255)\n",
        "train_generator = datagen.flow_from_directory(train_dir, class_mode='categorical', batch_size=20,target_size=image_size)\n",
        "valid_generator = datagen.flow_from_directory(validation_dir, class_mode='categorical', batch_size=20,target_size=image_size)\n"
      ],
      "execution_count": 3,
      "outputs": [
        {
          "output_type": "stream",
          "name": "stdout",
          "text": [
            "Found 4200 images belonging to 12 classes.\n",
            "Found 1200 images belonging to 12 classes.\n"
          ]
        }
      ]
    },
    {
      "cell_type": "code",
      "metadata": {
        "id": "duVR8NclNZLU"
      },
      "source": [
        "from keras.applications.vgg16 import VGG16\n",
        "import keras\n",
        "\n",
        "\n",
        "\n",
        "vgg16_model = keras.applications.vgg16.VGG16(\n",
        "    include_top=False,\n",
        "    weights=\"imagenet\",\n",
        "    input_tensor=None,\n",
        "    input_shape=(263,173,3),\n",
        "    pooling=None,\n",
        "    classes=1000,\n",
        "    classifier_activation=\"softmax\",\n",
        ")\n",
        "\n"
      ],
      "execution_count": 4,
      "outputs": []
    },
    {
      "cell_type": "code",
      "metadata": {
        "colab": {
          "base_uri": "https://localhost:8080/"
        },
        "id": "elQB5ta3OOhY",
        "outputId": "2a25d3fb-d16f-419f-bdff-af660d3178e1"
      },
      "source": [
        "vgg16_model.summary()"
      ],
      "execution_count": 5,
      "outputs": [
        {
          "output_type": "stream",
          "name": "stdout",
          "text": [
            "Model: \"vgg16\"\n",
            "_________________________________________________________________\n",
            " Layer (type)                Output Shape              Param #   \n",
            "=================================================================\n",
            " input_1 (InputLayer)        [(None, 263, 173, 3)]     0         \n",
            "                                                                 \n",
            " block1_conv1 (Conv2D)       (None, 263, 173, 64)      1792      \n",
            "                                                                 \n",
            " block1_conv2 (Conv2D)       (None, 263, 173, 64)      36928     \n",
            "                                                                 \n",
            " block1_pool (MaxPooling2D)  (None, 131, 86, 64)       0         \n",
            "                                                                 \n",
            " block2_conv1 (Conv2D)       (None, 131, 86, 128)      73856     \n",
            "                                                                 \n",
            " block2_conv2 (Conv2D)       (None, 131, 86, 128)      147584    \n",
            "                                                                 \n",
            " block2_pool (MaxPooling2D)  (None, 65, 43, 128)       0         \n",
            "                                                                 \n",
            " block3_conv1 (Conv2D)       (None, 65, 43, 256)       295168    \n",
            "                                                                 \n",
            " block3_conv2 (Conv2D)       (None, 65, 43, 256)       590080    \n",
            "                                                                 \n",
            " block3_conv3 (Conv2D)       (None, 65, 43, 256)       590080    \n",
            "                                                                 \n",
            " block3_pool (MaxPooling2D)  (None, 32, 21, 256)       0         \n",
            "                                                                 \n",
            " block4_conv1 (Conv2D)       (None, 32, 21, 512)       1180160   \n",
            "                                                                 \n",
            " block4_conv2 (Conv2D)       (None, 32, 21, 512)       2359808   \n",
            "                                                                 \n",
            " block4_conv3 (Conv2D)       (None, 32, 21, 512)       2359808   \n",
            "                                                                 \n",
            " block4_pool (MaxPooling2D)  (None, 16, 10, 512)       0         \n",
            "                                                                 \n",
            " block5_conv1 (Conv2D)       (None, 16, 10, 512)       2359808   \n",
            "                                                                 \n",
            " block5_conv2 (Conv2D)       (None, 16, 10, 512)       2359808   \n",
            "                                                                 \n",
            " block5_conv3 (Conv2D)       (None, 16, 10, 512)       2359808   \n",
            "                                                                 \n",
            " block5_pool (MaxPooling2D)  (None, 8, 5, 512)         0         \n",
            "                                                                 \n",
            "=================================================================\n",
            "Total params: 14,714,688\n",
            "Trainable params: 14,714,688\n",
            "Non-trainable params: 0\n",
            "_________________________________________________________________\n"
          ]
        }
      ]
    },
    {
      "cell_type": "code",
      "metadata": {
        "id": "d5Ca8UaqObLp"
      },
      "source": [
        "for layer in vgg16_model.layers:\n",
        "    layer.trainable = False"
      ],
      "execution_count": 6,
      "outputs": []
    },
    {
      "cell_type": "code",
      "metadata": {
        "colab": {
          "base_uri": "https://localhost:8080/"
        },
        "id": "CLeNJMNMOhoh",
        "outputId": "aedd0ea3-79fa-48db-ef57-e3b5d0028e3d"
      },
      "source": [
        "\n",
        "\n",
        "for layer in vgg16_model.layers:\n",
        "    print(layer, layer.trainable)\n",
        "\n"
      ],
      "execution_count": 7,
      "outputs": [
        {
          "output_type": "stream",
          "name": "stdout",
          "text": [
            "<keras.engine.input_layer.InputLayer object at 0x7f1b8c725350> False\n",
            "<keras.layers.convolutional.Conv2D object at 0x7f1b81bfbed0> False\n",
            "<keras.layers.convolutional.Conv2D object at 0x7f1b81baa9d0> False\n",
            "<keras.layers.pooling.MaxPooling2D object at 0x7f1b81af9190> False\n",
            "<keras.layers.convolutional.Conv2D object at 0x7f1b81afc990> False\n",
            "<keras.layers.convolutional.Conv2D object at 0x7f1b81865110> False\n",
            "<keras.layers.pooling.MaxPooling2D object at 0x7f1b8186b0d0> False\n",
            "<keras.layers.convolutional.Conv2D object at 0x7f1b81b32c10> False\n",
            "<keras.layers.convolutional.Conv2D object at 0x7f1b82ca9690> False\n",
            "<keras.layers.convolutional.Conv2D object at 0x7f1b81874d10> False\n",
            "<keras.layers.pooling.MaxPooling2D object at 0x7f1b8187db90> False\n",
            "<keras.layers.convolutional.Conv2D object at 0x7f1b8188d2d0> False\n",
            "<keras.layers.convolutional.Conv2D object at 0x7f1b818938d0> False\n",
            "<keras.layers.convolutional.Conv2D object at 0x7f1b8187d210> False\n",
            "<keras.layers.pooling.MaxPooling2D object at 0x7f1b81896d10> False\n",
            "<keras.layers.convolutional.Conv2D object at 0x7f1b81822590> False\n",
            "<keras.layers.convolutional.Conv2D object at 0x7f1b8181cb50> False\n",
            "<keras.layers.convolutional.Conv2D object at 0x7f1b81896410> False\n",
            "<keras.layers.pooling.MaxPooling2D object at 0x7f1b8182e4d0> False\n"
          ]
        }
      ]
    },
    {
      "cell_type": "code",
      "metadata": {
        "id": "_CJt_qlcOjk9"
      },
      "source": [
        "from keras.layers import Flatten, Dense \n",
        "from keras import Model"
      ],
      "execution_count": 8,
      "outputs": []
    },
    {
      "cell_type": "code",
      "metadata": {
        "id": "e79EvnMIOyeQ"
      },
      "source": [
        "\n",
        "\n",
        "# xx=Dropout(rate=0.20)(vgg_model.output)\n",
        "# x=Flatten()(xx)\n",
        "# prediction=Dense(12,activation=\"softmax\")(x)\n",
        "# model=Model(inputs=vgg_model.input , outputs=prediction)\n",
        "# model.summary()\n"
      ],
      "execution_count": 9,
      "outputs": []
    },
    {
      "cell_type": "code",
      "metadata": {
        "colab": {
          "base_uri": "https://localhost:8080/"
        },
        "id": "cv5ZPNhBOpL5",
        "outputId": "b1540397-750d-4a5e-8690-8fc29b0f42a3"
      },
      "source": [
        "last_output = Dropout(rate=0.20)(vgg16_model.layers[-1].output)\n",
        "vgg_x = Flatten()(last_output)\n",
        "vgg_x = Dense(12, activation = 'softmax')(vgg_x)\n",
        "\n",
        "# vgg_x = Dense(128, activation = 'relu')(vgg_x)\n",
        "# vgg_x = Dense(12, activation = 'softmax')(vgg_x)\n",
        "\n",
        "\n",
        "vgg16_final_model = Model(vgg16_model.input, vgg_x)\n",
        "\n",
        "\n",
        "\n",
        "vgg16_final_model.summary()\n",
        "# vgg16_final_model.compile(loss = 'categorical_crossentropy', optimizer= 'adam', metrics=['acc'])"
      ],
      "execution_count": 10,
      "outputs": [
        {
          "output_type": "stream",
          "name": "stdout",
          "text": [
            "Model: \"model\"\n",
            "_________________________________________________________________\n",
            " Layer (type)                Output Shape              Param #   \n",
            "=================================================================\n",
            " input_1 (InputLayer)        [(None, 263, 173, 3)]     0         \n",
            "                                                                 \n",
            " block1_conv1 (Conv2D)       (None, 263, 173, 64)      1792      \n",
            "                                                                 \n",
            " block1_conv2 (Conv2D)       (None, 263, 173, 64)      36928     \n",
            "                                                                 \n",
            " block1_pool (MaxPooling2D)  (None, 131, 86, 64)       0         \n",
            "                                                                 \n",
            " block2_conv1 (Conv2D)       (None, 131, 86, 128)      73856     \n",
            "                                                                 \n",
            " block2_conv2 (Conv2D)       (None, 131, 86, 128)      147584    \n",
            "                                                                 \n",
            " block2_pool (MaxPooling2D)  (None, 65, 43, 128)       0         \n",
            "                                                                 \n",
            " block3_conv1 (Conv2D)       (None, 65, 43, 256)       295168    \n",
            "                                                                 \n",
            " block3_conv2 (Conv2D)       (None, 65, 43, 256)       590080    \n",
            "                                                                 \n",
            " block3_conv3 (Conv2D)       (None, 65, 43, 256)       590080    \n",
            "                                                                 \n",
            " block3_pool (MaxPooling2D)  (None, 32, 21, 256)       0         \n",
            "                                                                 \n",
            " block4_conv1 (Conv2D)       (None, 32, 21, 512)       1180160   \n",
            "                                                                 \n",
            " block4_conv2 (Conv2D)       (None, 32, 21, 512)       2359808   \n",
            "                                                                 \n",
            " block4_conv3 (Conv2D)       (None, 32, 21, 512)       2359808   \n",
            "                                                                 \n",
            " block4_pool (MaxPooling2D)  (None, 16, 10, 512)       0         \n",
            "                                                                 \n",
            " block5_conv1 (Conv2D)       (None, 16, 10, 512)       2359808   \n",
            "                                                                 \n",
            " block5_conv2 (Conv2D)       (None, 16, 10, 512)       2359808   \n",
            "                                                                 \n",
            " block5_conv3 (Conv2D)       (None, 16, 10, 512)       2359808   \n",
            "                                                                 \n",
            " block5_pool (MaxPooling2D)  (None, 8, 5, 512)         0         \n",
            "                                                                 \n",
            " dropout (Dropout)           (None, 8, 5, 512)         0         \n",
            "                                                                 \n",
            " flatten (Flatten)           (None, 20480)             0         \n",
            "                                                                 \n",
            " dense (Dense)               (None, 12)                245772    \n",
            "                                                                 \n",
            "=================================================================\n",
            "Total params: 14,960,460\n",
            "Trainable params: 245,772\n",
            "Non-trainable params: 14,714,688\n",
            "_________________________________________________________________\n"
          ]
        }
      ]
    },
    {
      "cell_type": "code",
      "metadata": {
        "colab": {
          "base_uri": "https://localhost:8080/"
        },
        "id": "Nzpwj34OPV0W",
        "outputId": "68ce6617-d56c-4919-9587-d5dd4b4a3b41"
      },
      "source": [
        "\n",
        "for layer in vgg16_final_model.layers:\n",
        "    print(layer, layer.trainable)\n"
      ],
      "execution_count": 11,
      "outputs": [
        {
          "output_type": "stream",
          "name": "stdout",
          "text": [
            "<keras.engine.input_layer.InputLayer object at 0x7f1b8c725350> False\n",
            "<keras.layers.convolutional.Conv2D object at 0x7f1b81bfbed0> False\n",
            "<keras.layers.convolutional.Conv2D object at 0x7f1b81baa9d0> False\n",
            "<keras.layers.pooling.MaxPooling2D object at 0x7f1b81af9190> False\n",
            "<keras.layers.convolutional.Conv2D object at 0x7f1b81afc990> False\n",
            "<keras.layers.convolutional.Conv2D object at 0x7f1b81865110> False\n",
            "<keras.layers.pooling.MaxPooling2D object at 0x7f1b8186b0d0> False\n",
            "<keras.layers.convolutional.Conv2D object at 0x7f1b81b32c10> False\n",
            "<keras.layers.convolutional.Conv2D object at 0x7f1b82ca9690> False\n",
            "<keras.layers.convolutional.Conv2D object at 0x7f1b81874d10> False\n",
            "<keras.layers.pooling.MaxPooling2D object at 0x7f1b8187db90> False\n",
            "<keras.layers.convolutional.Conv2D object at 0x7f1b8188d2d0> False\n",
            "<keras.layers.convolutional.Conv2D object at 0x7f1b818938d0> False\n",
            "<keras.layers.convolutional.Conv2D object at 0x7f1b8187d210> False\n",
            "<keras.layers.pooling.MaxPooling2D object at 0x7f1b81896d10> False\n",
            "<keras.layers.convolutional.Conv2D object at 0x7f1b81822590> False\n",
            "<keras.layers.convolutional.Conv2D object at 0x7f1b8181cb50> False\n",
            "<keras.layers.convolutional.Conv2D object at 0x7f1b81896410> False\n",
            "<keras.layers.pooling.MaxPooling2D object at 0x7f1b8182e4d0> False\n",
            "<keras.layers.core.dropout.Dropout object at 0x7f1b817e4c90> True\n",
            "<keras.layers.core.flatten.Flatten object at 0x7f1b81896b10> True\n",
            "<keras.layers.core.dense.Dense object at 0x7f1b8187d750> True\n"
          ]
        }
      ]
    },
    {
      "cell_type": "code",
      "metadata": {
        "id": "ykq7s_p2QD6S"
      },
      "source": [
        "model  = vgg16_final_model \n",
        "\n",
        "\n",
        "\n",
        "\n",
        "# model.compile(loss='categorical_crossentropy', \n",
        "#               optimizer=tf.keras.optimizers.SGD(lr=0.01, momentum=0.9, nesterov=True) ,\n",
        "#               metrics=['accuracy'] ,)"
      ],
      "execution_count": 12,
      "outputs": []
    },
    {
      "cell_type": "markdown",
      "metadata": {
        "id": "sQElow8FIoeu"
      },
      "source": [
        "**load_weights**"
      ]
    },
    {
      "cell_type": "code",
      "metadata": {
        "id": "rUPEZs2bIr5S"
      },
      "source": [
        "# model.load_weights('/content/drive/MyDrive/KASHIF DEEP LEARNING/transfer learning/ Jason Brownlee/dataBase/here/model.04-14.33.h5')"
      ],
      "execution_count": 13,
      "outputs": []
    },
    {
      "cell_type": "code",
      "metadata": {
        "id": "BK1O2I5vI1T7"
      },
      "source": [
        "# model.get_weights()"
      ],
      "execution_count": 14,
      "outputs": []
    },
    {
      "cell_type": "code",
      "metadata": {
        "colab": {
          "base_uri": "https://localhost:8080/"
        },
        "id": "G2GrDNhlI15W",
        "outputId": "fc4e87d4-726c-4ca7-d043-cd885ddff026"
      },
      "source": [
        "model.summary()"
      ],
      "execution_count": 15,
      "outputs": [
        {
          "output_type": "stream",
          "name": "stdout",
          "text": [
            "Model: \"model\"\n",
            "_________________________________________________________________\n",
            " Layer (type)                Output Shape              Param #   \n",
            "=================================================================\n",
            " input_1 (InputLayer)        [(None, 263, 173, 3)]     0         \n",
            "                                                                 \n",
            " block1_conv1 (Conv2D)       (None, 263, 173, 64)      1792      \n",
            "                                                                 \n",
            " block1_conv2 (Conv2D)       (None, 263, 173, 64)      36928     \n",
            "                                                                 \n",
            " block1_pool (MaxPooling2D)  (None, 131, 86, 64)       0         \n",
            "                                                                 \n",
            " block2_conv1 (Conv2D)       (None, 131, 86, 128)      73856     \n",
            "                                                                 \n",
            " block2_conv2 (Conv2D)       (None, 131, 86, 128)      147584    \n",
            "                                                                 \n",
            " block2_pool (MaxPooling2D)  (None, 65, 43, 128)       0         \n",
            "                                                                 \n",
            " block3_conv1 (Conv2D)       (None, 65, 43, 256)       295168    \n",
            "                                                                 \n",
            " block3_conv2 (Conv2D)       (None, 65, 43, 256)       590080    \n",
            "                                                                 \n",
            " block3_conv3 (Conv2D)       (None, 65, 43, 256)       590080    \n",
            "                                                                 \n",
            " block3_pool (MaxPooling2D)  (None, 32, 21, 256)       0         \n",
            "                                                                 \n",
            " block4_conv1 (Conv2D)       (None, 32, 21, 512)       1180160   \n",
            "                                                                 \n",
            " block4_conv2 (Conv2D)       (None, 32, 21, 512)       2359808   \n",
            "                                                                 \n",
            " block4_conv3 (Conv2D)       (None, 32, 21, 512)       2359808   \n",
            "                                                                 \n",
            " block4_pool (MaxPooling2D)  (None, 16, 10, 512)       0         \n",
            "                                                                 \n",
            " block5_conv1 (Conv2D)       (None, 16, 10, 512)       2359808   \n",
            "                                                                 \n",
            " block5_conv2 (Conv2D)       (None, 16, 10, 512)       2359808   \n",
            "                                                                 \n",
            " block5_conv3 (Conv2D)       (None, 16, 10, 512)       2359808   \n",
            "                                                                 \n",
            " block5_pool (MaxPooling2D)  (None, 8, 5, 512)         0         \n",
            "                                                                 \n",
            " dropout (Dropout)           (None, 8, 5, 512)         0         \n",
            "                                                                 \n",
            " flatten (Flatten)           (None, 20480)             0         \n",
            "                                                                 \n",
            " dense (Dense)               (None, 12)                245772    \n",
            "                                                                 \n",
            "=================================================================\n",
            "Total params: 14,960,460\n",
            "Trainable params: 245,772\n",
            "Non-trainable params: 14,714,688\n",
            "_________________________________________________________________\n"
          ]
        }
      ]
    },
    {
      "cell_type": "code",
      "metadata": {
        "colab": {
          "base_uri": "https://localhost:8080/"
        },
        "id": "y8gx-z6EI17D",
        "outputId": "723a7433-15dd-48f3-ec2f-91c953aae097"
      },
      "source": [
        "\n",
        "\n",
        "model.compile(loss='categorical_crossentropy', \n",
        "              optimizer=tf.keras.optimizers.SGD(lr=0.01, momentum=0.9, nesterov=True) ,\n",
        "              metrics=['accuracy'] ,)"
      ],
      "execution_count": 16,
      "outputs": [
        {
          "output_type": "stream",
          "name": "stderr",
          "text": [
            "/usr/local/lib/python3.7/dist-packages/keras/optimizer_v2/gradient_descent.py:102: UserWarning: The `lr` argument is deprecated, use `learning_rate` instead.\n",
            "  super(SGD, self).__init__(name, **kwargs)\n"
          ]
        }
      ]
    },
    {
      "cell_type": "code",
      "metadata": {
        "id": "_TdTx5InI19H"
      },
      "source": [
        ""
      ],
      "execution_count": 16,
      "outputs": []
    },
    {
      "cell_type": "code",
      "metadata": {
        "id": "MBGzjo1bI1_A"
      },
      "source": [
        ""
      ],
      "execution_count": 16,
      "outputs": []
    },
    {
      "cell_type": "code",
      "metadata": {
        "id": "xadF4iwWI2A8"
      },
      "source": [
        ""
      ],
      "execution_count": 16,
      "outputs": []
    },
    {
      "cell_type": "code",
      "metadata": {
        "id": "hgW-1K2XI2Cv"
      },
      "source": [
        ""
      ],
      "execution_count": 16,
      "outputs": []
    },
    {
      "cell_type": "code",
      "metadata": {
        "id": "fGZ4CsDdI2El"
      },
      "source": [
        ""
      ],
      "execution_count": 16,
      "outputs": []
    },
    {
      "cell_type": "code",
      "metadata": {
        "id": "Mjtne-dAI2Gd"
      },
      "source": [
        ""
      ],
      "execution_count": 16,
      "outputs": []
    },
    {
      "cell_type": "code",
      "metadata": {
        "id": "Rgv5PQ0SI2Ir"
      },
      "source": [
        ""
      ],
      "execution_count": 16,
      "outputs": []
    },
    {
      "cell_type": "code",
      "metadata": {
        "id": "VESsS_8WRMpQ"
      },
      "source": [
        "\n",
        "\n",
        "# filepath = '/content/drive/MyDrive/KASHIF DEEP LEARNING/transfer learning/ Jason Brownlee/dataBase/here/best_model.{epoch:02d}-{val_loss:.2f}.h5'\n",
        "\n",
        "\n",
        "filepath='/content/drive/MyDrive/KASHIF DEEP LEARNING/transfer learning/ Jason Brownlee/NEW/SAVED MODEL/third daa bse/best models/weight_loss_00.h5'\n",
        "checkpoint_loss = keras.callbacks.ModelCheckpoint(filepath=filepath, \n",
        "                             monitor='val_loss',\n",
        "                             verbose=1, \n",
        "                             save_best_only=True,\n",
        "                             mode='min')\n",
        "\n",
        "\n",
        "\n",
        "filez='/content/drive/MyDrive/KASHIF DEEP LEARNING/transfer learning/ Jason Brownlee/NEW/SAVED MODEL/third daa bse/best models/weight_acc_00.h5'\n",
        "checkpoint_acc = keras.callbacks.ModelCheckpoint(filepath=filez, \n",
        "                             monitor='val_accuracy',\n",
        "                             verbose=1, \n",
        "                             save_best_only=True,\n",
        "                             mode='min')\n",
        "\n",
        "\n"
      ],
      "execution_count": 17,
      "outputs": []
    },
    {
      "cell_type": "code",
      "metadata": {
        "id": "64_d50OwS1XW"
      },
      "source": [
        "\n",
        "callback = tf.keras.callbacks.EarlyStopping(monitor='loss', patience=3)\n",
        "\n",
        "callbackx = [callback , checkpoint_loss , checkpoint_acc]\n"
      ],
      "execution_count": 18,
      "outputs": []
    },
    {
      "cell_type": "code",
      "metadata": {
        "colab": {
          "base_uri": "https://localhost:8080/"
        },
        "id": "pcY6GIjRS2i2",
        "outputId": "310d8581-799f-4d2e-c56f-6733f83a3adf"
      },
      "source": [
        "history  = model.fit(\n",
        "\n",
        "\n",
        "                     train_generator,\n",
        "                     batch_size=32,\n",
        "                     epochs=5,\n",
        "                     verbose='auto',\n",
        "                     callbacks=[callbackx],\n",
        "                     validation_split=0.0, \n",
        "                     validation_data=valid_generator,\n",
        "                     shuffle=True,\n",
        "                     class_weight=None,\n",
        "                     sample_weight=None,\n",
        "                     initial_epoch=0,\n",
        "                     steps_per_epoch=4200/32,\n",
        "                     validation_steps=1200/32,\n",
        "                     validation_batch_size=None,\n",
        "                     validation_freq=1,\n",
        "                     max_queue_size=10,\n",
        "                     workers=1,\n",
        "                     use_multiprocessing=False)"
      ],
      "execution_count": 19,
      "outputs": [
        {
          "output_type": "stream",
          "name": "stdout",
          "text": [
            "Epoch 1/5\n",
            "132/131 [==============================] - ETA: -2s - loss: 22.9750 - accuracy: 0.4057\n",
            "Epoch 00001: val_loss improved from inf to 1.95650, saving model to /content/drive/MyDrive/KASHIF DEEP LEARNING/transfer learning/ Jason Brownlee/NEW/SAVED MODEL/third daa bse/best models/weight_loss_00.h5\n",
            "\n",
            "Epoch 00001: val_accuracy improved from inf to 0.70789, saving model to /content/drive/MyDrive/KASHIF DEEP LEARNING/transfer learning/ Jason Brownlee/NEW/SAVED MODEL/third daa bse/best models/weight_acc_00.h5\n",
            "131/131 [==============================] - 681s 5s/step - loss: 22.9750 - accuracy: 0.4057 - val_loss: 1.9565 - val_accuracy: 0.7079\n",
            "Epoch 2/5\n",
            "132/131 [==============================] - ETA: -1s - loss: 2.3311 - accuracy: 0.7402\n",
            "Epoch 00002: val_loss improved from 1.95650 to 0.66207, saving model to /content/drive/MyDrive/KASHIF DEEP LEARNING/transfer learning/ Jason Brownlee/NEW/SAVED MODEL/third daa bse/best models/weight_loss_00.h5\n",
            "\n",
            "Epoch 00002: val_accuracy did not improve from 0.70789\n",
            "131/131 [==============================] - 265s 2s/step - loss: 2.3311 - accuracy: 0.7402 - val_loss: 0.6621 - val_accuracy: 0.8776\n",
            "Epoch 3/5\n",
            "132/131 [==============================] - ETA: 0s - loss: 1.5035 - accuracy: 0.8042\n",
            "Epoch 00003: val_loss improved from 0.66207 to 0.65828, saving model to /content/drive/MyDrive/KASHIF DEEP LEARNING/transfer learning/ Jason Brownlee/NEW/SAVED MODEL/third daa bse/best models/weight_loss_00.h5\n",
            "\n",
            "Epoch 00003: val_accuracy did not improve from 0.70789\n",
            "131/131 [==============================] - 104s 787ms/step - loss: 1.5035 - accuracy: 0.8042 - val_loss: 0.6583 - val_accuracy: 0.8816\n",
            "Epoch 4/5\n",
            "132/131 [==============================] - ETA: 0s - loss: 1.0952 - accuracy: 0.8443\n",
            "Epoch 00004: val_loss improved from 0.65828 to 0.51094, saving model to /content/drive/MyDrive/KASHIF DEEP LEARNING/transfer learning/ Jason Brownlee/NEW/SAVED MODEL/third daa bse/best models/weight_loss_00.h5\n",
            "\n",
            "Epoch 00004: val_accuracy did not improve from 0.70789\n",
            "131/131 [==============================] - 60s 461ms/step - loss: 1.0952 - accuracy: 0.8443 - val_loss: 0.5109 - val_accuracy: 0.8974\n",
            "Epoch 5/5\n",
            "132/131 [==============================] - ETA: 0s - loss: 1.0058 - accuracy: 0.8534\n",
            "Epoch 00005: val_loss did not improve from 0.51094\n",
            "\n",
            "Epoch 00005: val_accuracy did not improve from 0.70789\n",
            "131/131 [==============================] - 42s 321ms/step - loss: 1.0058 - accuracy: 0.8534 - val_loss: 0.5938 - val_accuracy: 0.9079\n"
          ]
        }
      ]
    },
    {
      "cell_type": "code",
      "metadata": {
        "id": "V-spBsyUTYIo"
      },
      "source": [
        "# model.load_weights('/content/drive/MyDrive/KASHIF DEEP LEARNING/transfer learning/ Jason Brownlee/dataBase/here/model.04-14.33.h5', \n",
        "#                    by_name=False,\n",
        "#                    skip_mismatch=False,\n",
        "#                    options=None)"
      ],
      "execution_count": 20,
      "outputs": []
    },
    {
      "cell_type": "code",
      "metadata": {
        "id": "IM1bK6k4a_AW"
      },
      "source": [
        "model.save('/content/drive/MyDrive/KASHIF DEEP LEARNING/transfer learning/ Jason Brownlee/NEW/SAVED MODEL/third daa bse/best models/models_00.h5')   "
      ],
      "execution_count": 21,
      "outputs": []
    },
    {
      "cell_type": "code",
      "metadata": {
        "id": "7cr-rKfVbDjt"
      },
      "source": [
        "\n",
        "vgg16_saved = load_model('/content/drive/MyDrive/KASHIF DEEP LEARNING/transfer learning/ Jason Brownlee/NEW/SAVED MODEL/third daa bse/best models/models_00.h5')\n"
      ],
      "execution_count": 22,
      "outputs": []
    },
    {
      "cell_type": "code",
      "metadata": {
        "colab": {
          "base_uri": "https://localhost:8080/"
        },
        "id": "g9NOdkUmbiaN",
        "outputId": "315d7d6d-f731-4764-e2b4-407d4ec91d2b"
      },
      "source": [
        "test_generator = datagen.flow_from_directory(test_dir, class_mode='categorical', batch_size=20,target_size=image_size)\n"
      ],
      "execution_count": 23,
      "outputs": [
        {
          "output_type": "stream",
          "name": "stdout",
          "text": [
            "Found 600 images belonging to 12 classes.\n"
          ]
        }
      ]
    },
    {
      "cell_type": "code",
      "metadata": {
        "colab": {
          "base_uri": "https://localhost:8080/"
        },
        "id": "-YMGXWodbbue",
        "outputId": "a606ca62-a3c1-4488-b1d8-25f26f7cdd75"
      },
      "source": [
        "vgg16_saved.evaluate(test_generator)"
      ],
      "execution_count": 24,
      "outputs": [
        {
          "output_type": "stream",
          "name": "stdout",
          "text": [
            "30/30 [==============================] - 129s 4s/step - loss: 0.3841 - accuracy: 0.9150\n"
          ]
        },
        {
          "output_type": "execute_result",
          "data": {
            "text/plain": [
              "[0.38412171602249146, 0.9150000214576721]"
            ]
          },
          "metadata": {},
          "execution_count": 24
        }
      ]
    },
    {
      "cell_type": "code",
      "metadata": {
        "id": "mKIPe2_tbhf4"
      },
      "source": [
        ""
      ],
      "execution_count": 24,
      "outputs": []
    }
  ]
}
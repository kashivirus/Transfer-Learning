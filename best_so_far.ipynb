{
  "nbformat": 4,
  "nbformat_minor": 0,
  "metadata": {
    "colab": {
      "name": "best_so_far.ipynb",
      "provenance": [],
      "collapsed_sections": []
    },
    "kernelspec": {
      "name": "python3",
      "display_name": "Python 3"
    },
    "language_info": {
      "name": "python"
    },
    "accelerator": "GPU"
  },
  "cells": [
    {
      "cell_type": "code",
      "metadata": {
        "id": "MXRladmzyyEH"
      },
      "source": [
        ""
      ],
      "execution_count": 7,
      "outputs": []
    },
    {
      "cell_type": "code",
      "metadata": {
        "id": "M0xPrQqzy1F5"
      },
      "source": [
        "from tensorflow.keras.applications.vgg16 import VGG16\n",
        "from tensorflow.keras.preprocessing import image\n",
        "from keras.preprocessing.image import ImageDataGenerator\n",
        "from tensorflow.keras.models import Model,load_model\n",
        "from tensorflow.keras.layers import Dense, Flatten, Dropout\n",
        "import glob\n",
        "import matplotlib.pyplot as plt\n",
        "import cv2\n",
        "import numpy as np\n",
        "import keras\n",
        "import tensorflow as tf\n",
        "\n",
        "\n",
        "\n",
        "\n",
        "\n",
        "test_dir = '/content/drive/MyDrive/KASHIF DEEP LEARNING/transfer learning/ Jason Brownlee/dataBase/test'\n",
        "\n",
        "validation_dir = '/content/drive/MyDrive/KASHIF DEEP LEARNING/transfer learning/ Jason Brownlee/dataBase/val'\n",
        "\n",
        "train_dir = '/content/drive/MyDrive/KASHIF DEEP LEARNING/transfer learning/ Jason Brownlee/dataBase/train'"
      ],
      "execution_count": 8,
      "outputs": []
    },
    {
      "cell_type": "code",
      "metadata": {
        "colab": {
          "base_uri": "https://localhost:8080/"
        },
        "id": "r8LTqcbuW108",
        "outputId": "8b57e1d3-5bfb-426e-ef8d-33e240c12067"
      },
      "source": [
        "image_size=[263,173]\n",
        "\n",
        "\n",
        "datagen = ImageDataGenerator(rescale=1.0/255)\n",
        "train_generator = datagen.flow_from_directory(train_dir, class_mode='categorical', batch_size=32,target_size=image_size)\n",
        "valid_generator = datagen.flow_from_directory(validation_dir, class_mode='categorical', batch_size=32,target_size=image_size)\n",
        "test_generator = datagen.flow_from_directory(test_dir, class_mode='categorical', batch_size=32,target_size=image_size)\n"
      ],
      "execution_count": 9,
      "outputs": [
        {
          "output_type": "stream",
          "name": "stdout",
          "text": [
            "Found 4200 images belonging to 12 classes.\n",
            "Found 1200 images belonging to 12 classes.\n",
            "Found 600 images belonging to 12 classes.\n"
          ]
        }
      ]
    },
    {
      "cell_type": "code",
      "metadata": {
        "id": "cA43dyBHW12m"
      },
      "source": [
        ""
      ],
      "execution_count": 9,
      "outputs": []
    },
    {
      "cell_type": "code",
      "metadata": {
        "id": "s2OFtZONW14R"
      },
      "source": [
        ""
      ],
      "execution_count": 9,
      "outputs": []
    },
    {
      "cell_type": "code",
      "metadata": {
        "id": "TCRjrnL7W16P"
      },
      "source": [
        ""
      ],
      "execution_count": 9,
      "outputs": []
    },
    {
      "cell_type": "code",
      "metadata": {
        "id": "IHMPYAvYW182"
      },
      "source": [
        ""
      ],
      "execution_count": 9,
      "outputs": []
    },
    {
      "cell_type": "code",
      "metadata": {
        "id": "kXwbj40jy1H8"
      },
      "source": [
        "from keras.models import Sequential, Model, load_model\n",
        "from keras import applications\n",
        "from keras import optimizers\n",
        "from keras.layers import Dropout, Flatten, Dense\n",
        "from keras.applications.vgg16 import VGG16\n",
        "\n",
        "image_size=[263,173]\n",
        "\n",
        "base_model = VGG16(weights='imagenet', include_top=False, input_shape=(263,173, 3))\n",
        "\n",
        "\n",
        "\n"
      ],
      "execution_count": 10,
      "outputs": []
    },
    {
      "cell_type": "code",
      "metadata": {
        "id": "00RRPdcfV7n9"
      },
      "source": [
        "for layer in base_model.layers:\n",
        "    layer.trainable = False"
      ],
      "execution_count": 11,
      "outputs": []
    },
    {
      "cell_type": "code",
      "metadata": {
        "id": "BH34RwMVy-x0"
      },
      "source": [
        "add_model = Sequential()\n",
        "add_model.add(Flatten(input_shape=base_model.output_shape[1:]))\n",
        "# add_model.add(Dense(256, activation='relu'))\n",
        "add_model.add(Dense(12, activation='softmax'))\n"
      ],
      "execution_count": 12,
      "outputs": []
    },
    {
      "cell_type": "code",
      "metadata": {
        "id": "Q0MVi39zWb7k"
      },
      "source": [
        "\n",
        "model = Model(inputs=base_model.input, outputs=add_model(base_model.output))\n"
      ],
      "execution_count": 13,
      "outputs": []
    },
    {
      "cell_type": "code",
      "metadata": {
        "colab": {
          "base_uri": "https://localhost:8080/"
        },
        "id": "U8PxS5kTWnlj",
        "outputId": "dcf5957a-9160-4998-e973-97d25fa33ab6"
      },
      "source": [
        "\n",
        "\n",
        "model.compile(loss='categorical_crossentropy', \n",
        "              optimizer=tf.keras.optimizers.SGD(lr=0.01, momentum=0.9, nesterov=True) ,\n",
        "              metrics=['accuracy'] ,)"
      ],
      "execution_count": 14,
      "outputs": [
        {
          "output_type": "stream",
          "name": "stderr",
          "text": [
            "/usr/local/lib/python3.7/dist-packages/keras/optimizer_v2/gradient_descent.py:102: UserWarning: The `lr` argument is deprecated, use `learning_rate` instead.\n",
            "  super(SGD, self).__init__(name, **kwargs)\n"
          ]
        }
      ]
    },
    {
      "cell_type": "code",
      "metadata": {
        "colab": {
          "base_uri": "https://localhost:8080/"
        },
        "id": "hRIafvptXg8K",
        "outputId": "c5bcc132-2a74-4d19-eb74-73e452a60b29"
      },
      "source": [
        "from keras.callbacks import ModelCheckpoint, LearningRateScheduler, EarlyStopping, ReduceLROnPlateau\n",
        "weight_path='/content/drive/MyDrive/KASHIF DEEP LEARNING/transfer learning/##GRAPH/weight_00.h5'\n",
        "\n",
        "checkpoint = ModelCheckpoint(weight_path, monitor='val_loss', verbose=1, \n",
        "                             save_best_only=True, mode='min', save_weights_only = True)\n",
        "\n",
        "\n",
        "reduceLROnPlat = ReduceLROnPlateau(monitor='val_loss', factor=0.8, patience=10, verbose=1, mode='auto', epsilon=0.0001, cooldown=5, min_lr=0.0001)\n",
        "early = EarlyStopping(monitor=\"val_loss\", \n",
        "                      mode=\"min\", \n",
        "                      patience=5) # probably needs to be more patient, but kaggle time is limited\n",
        "callbacks_list = [checkpoint, early, reduceLROnPlat]"
      ],
      "execution_count": 15,
      "outputs": [
        {
          "output_type": "stream",
          "name": "stdout",
          "text": [
            "WARNING:tensorflow:`epsilon` argument is deprecated and will be removed, use `min_delta` instead.\n"
          ]
        }
      ]
    },
    {
      "cell_type": "code",
      "metadata": {
        "colab": {
          "base_uri": "https://localhost:8080/"
        },
        "id": "kDiUm8RJX-8D",
        "outputId": "2e51ef0f-a7d8-4791-87de-9c710bc087a0"
      },
      "source": [
        "history  = model.fit(\n",
        "\n",
        "\n",
        "                     train_generator,\n",
        "                     batch_size=32,\n",
        "                     epochs=5,\n",
        "                     verbose='auto',\n",
        "                     callbacks=callbacks_list,\n",
        "                     validation_split=0.0, \n",
        "                     validation_data=valid_generator,\n",
        "                     shuffle=True,\n",
        "                     class_weight=None,\n",
        "                     sample_weight=None,\n",
        "                     initial_epoch=0,\n",
        "                     steps_per_epoch=4200/32,\n",
        "                     validation_steps=1200/32,\n",
        "                     validation_batch_size=None,\n",
        "                     validation_freq=1,\n",
        "                     max_queue_size=10,\n",
        "                     workers=1,\n",
        "                     use_multiprocessing=False)"
      ],
      "execution_count": 16,
      "outputs": [
        {
          "output_type": "stream",
          "name": "stdout",
          "text": [
            "Epoch 1/5\n",
            "132/131 [==============================] - ETA: -8s - loss: 23.3584 - accuracy: 0.4812\n",
            "Epoch 00001: val_loss improved from inf to 0.37734, saving model to /content/drive/MyDrive/KASHIF DEEP LEARNING/transfer learning/##GRAPH/weight_00.h5\n",
            "131/131 [==============================] - 1974s 15s/step - loss: 23.3584 - accuracy: 0.4812 - val_loss: 0.3773 - val_accuracy: 0.9033 - lr: 0.0100\n",
            "Epoch 2/5\n",
            "132/131 [==============================] - ETA: 0s - loss: 0.5338 - accuracy: 0.8762\n",
            "Epoch 00002: val_loss improved from 0.37734 to 0.30109, saving model to /content/drive/MyDrive/KASHIF DEEP LEARNING/transfer learning/##GRAPH/weight_00.h5\n",
            "131/131 [==============================] - 40s 301ms/step - loss: 0.5338 - accuracy: 0.8762 - val_loss: 0.3011 - val_accuracy: 0.9058 - lr: 0.0100\n",
            "Epoch 3/5\n",
            "132/131 [==============================] - ETA: 0s - loss: 0.2907 - accuracy: 0.9202\n",
            "Epoch 00003: val_loss did not improve from 0.30109\n",
            "131/131 [==============================] - 39s 295ms/step - loss: 0.2907 - accuracy: 0.9202 - val_loss: 0.3506 - val_accuracy: 0.8992 - lr: 0.0100\n",
            "Epoch 4/5\n",
            "132/131 [==============================] - ETA: 0s - loss: 0.1809 - accuracy: 0.9467\n",
            "Epoch 00004: val_loss improved from 0.30109 to 0.26989, saving model to /content/drive/MyDrive/KASHIF DEEP LEARNING/transfer learning/##GRAPH/weight_00.h5\n",
            "131/131 [==============================] - 40s 302ms/step - loss: 0.1809 - accuracy: 0.9467 - val_loss: 0.2699 - val_accuracy: 0.9217 - lr: 0.0100\n",
            "Epoch 5/5\n",
            "132/131 [==============================] - ETA: 0s - loss: 0.1553 - accuracy: 0.9524\n",
            "Epoch 00005: val_loss did not improve from 0.26989\n",
            "131/131 [==============================] - 39s 295ms/step - loss: 0.1553 - accuracy: 0.9524 - val_loss: 0.5946 - val_accuracy: 0.8675 - lr: 0.0100\n"
          ]
        }
      ]
    },
    {
      "cell_type": "code",
      "metadata": {
        "id": "x8yk57UHYHDa"
      },
      "source": [
        "model.save('/content/drive/MyDrive/KASHIF DEEP LEARNING/transfer learning/##GRAPH/model_00.h5')"
      ],
      "execution_count": 17,
      "outputs": []
    },
    {
      "cell_type": "code",
      "metadata": {
        "id": "DRWLaJkdYT4U"
      },
      "source": [
        "\n",
        "vgg16_saved = keras.models.load_model('/content/drive/MyDrive/KASHIF DEEP LEARNING/transfer learning/##GRAPH/model_00.h5')\n"
      ],
      "execution_count": 18,
      "outputs": []
    },
    {
      "cell_type": "code",
      "metadata": {
        "colab": {
          "base_uri": "https://localhost:8080/"
        },
        "id": "IXHFaAJIYea0",
        "outputId": "b3f20174-ec44-4f5c-e436-faac6a070d2f"
      },
      "source": [
        "vgg16_saved.evaluate(test_generator)"
      ],
      "execution_count": 19,
      "outputs": [
        {
          "output_type": "stream",
          "name": "stdout",
          "text": [
            "19/19 [==============================] - 211s 12s/step - loss: 0.6606 - accuracy: 0.8617\n"
          ]
        },
        {
          "output_type": "execute_result",
          "data": {
            "text/plain": [
              "[0.6605921983718872, 0.8616666793823242]"
            ]
          },
          "metadata": {},
          "execution_count": 19
        }
      ]
    },
    {
      "cell_type": "code",
      "metadata": {
        "colab": {
          "base_uri": "https://localhost:8080/",
          "height": 310
        },
        "id": "ECkG1GWUYm5F",
        "outputId": "de97f374-28a4-40a5-9f2b-b37fbc80f675"
      },
      "source": [
        "accuracy = history.history['accuracy']\n",
        "val_accuracy  = history.history['val_accuracy']\n",
        "\n",
        "loss = history.history['loss']\n",
        "val_loss = history.history['val_loss']\n",
        "\n",
        "\n",
        "plt.figure(figsize=(15,10))\n",
        "\n",
        "plt.subplot(2, 2, 1)\n",
        "plt.plot(accuracy, label = \"Training accuracy\")\n",
        "plt.plot(val_accuracy, label=\"Validation accuracy\")\n",
        "plt.legend()\n",
        "plt.title(\"Training vs validation accuracy\")\n",
        "\n",
        "\n",
        "plt.subplot(2,2,2)\n",
        "plt.plot(loss, label = \"Training loss\")\n",
        "plt.plot(val_loss, label=\"Validation loss\")\n",
        "plt.legend()\n",
        "plt.title(\"Training vs validation loss\")\n",
        "\n",
        "plt.show()"
      ],
      "execution_count": 20,
      "outputs": [
        {
          "output_type": "display_data",
          "data": {
            "image/png": "[encoded data removed]",
            "text/plain": [
              "<Figure size 1080x720 with 2 Axes>"
            ]
          },
          "metadata": {
            "needs_background": "light"
          }
        }
      ]
    },
    {
      "cell_type": "code",
      "metadata": {
        "id": "_h_r7E9Wh8_p"
      },
      "source": [
        ""
      ],
      "execution_count": null,
      "outputs": []
    },
    {
      "cell_type": "code",
      "metadata": {
        "id": "tPj-l4vCh9Et"
      },
      "source": [
        ""
      ],
      "execution_count": null,
      "outputs": []
    },
    {
      "cell_type": "code",
      "metadata": {
        "id": "sC08L4lAh9HI"
      },
      "source": [
        "ledom = vgg16_saved\n",
        "test = test_generator"
      ],
      "execution_count": 22,
      "outputs": []
    },
    {
      "cell_type": "code",
      "metadata": {
        "id": "zpEdkp3kh9J7"
      },
      "source": [
        "y_pred = ledom.predict(test)\n",
        "y_pred = np.argmax(y_pred,axis=1)"
      ],
      "execution_count": 23,
      "outputs": []
    },
    {
      "cell_type": "code",
      "metadata": {
        "colab": {
          "base_uri": "https://localhost:8080/"
        },
        "id": "fjvHvdaah9NS",
        "outputId": "57dc7875-7159-4b06-e37b-ba40bbb9b90c"
      },
      "source": [
        "from sklearn.metrics import classification_report, confusion_matrix\n",
        "print(classification_report(test.labels,y_pred))"
      ],
      "execution_count": 24,
      "outputs": [
        {
          "output_type": "stream",
          "name": "stdout",
          "text": [
            "              precision    recall  f1-score   support\n",
            "\n",
            "           0       0.17      0.16      0.16        50\n",
            "           1       0.09      0.08      0.08        50\n",
            "           2       0.17      0.06      0.09        50\n",
            "           3       0.12      0.10      0.11        50\n",
            "           4       0.10      0.08      0.09        50\n",
            "           5       0.08      0.10      0.09        50\n",
            "           6       0.06      0.06      0.06        50\n",
            "           7       0.08      0.08      0.08        50\n",
            "           8       0.08      0.08      0.08        50\n",
            "           9       0.02      0.02      0.02        50\n",
            "          10       0.12      0.10      0.11        50\n",
            "          11       0.08      0.18      0.11        50\n",
            "\n",
            "    accuracy                           0.09       600\n",
            "   macro avg       0.10      0.09      0.09       600\n",
            "weighted avg       0.10      0.09      0.09       600\n",
            "\n"
          ]
        }
      ]
    },
    {
      "cell_type": "code",
      "metadata": {
        "id": "y6NxhBGth9O-"
      },
      "source": [
        "import pandas as pd\n",
        "classes=[i for i in range(12)]\n",
        "con_mat_df = pd.DataFrame(confusion_matrix(test.labels,y_pred),\n",
        "                     index = classes, \n",
        "                     columns = classes)"
      ],
      "execution_count": 25,
      "outputs": []
    },
    {
      "cell_type": "code",
      "metadata": {
        "colab": {
          "base_uri": "https://localhost:8080/",
          "height": 501
        },
        "id": "2lwMrAqUh9Rk",
        "outputId": "f9e51205-014a-4e63-8514-3de4b4fc4cec"
      },
      "source": [
        "import seaborn as sns\n",
        "import matplotlib.pyplot as plt\n",
        "figure = plt.figure(figsize=(15, 8))\n",
        "sns.heatmap(con_mat_df, annot=True,cmap=plt.cm.cool,fmt='d')\n",
        "plt.ylabel('Actual')\n",
        "plt.xlabel('Predicted')\n",
        "plt.show()"
      ],
      "execution_count": 26,
      "outputs": [
        {
          "output_type": "display_data",
          "data": {
            "image/png": "[encoded data removed]",
            "text/plain": [
              "<Figure size 1080x576 with 2 Axes>"
            ]
          },
          "metadata": {
            "needs_background": "light"
          }
        }
      ]
    },
    {
      "cell_type": "code",
      "metadata": {
        "id": "IaATUdkuinjx"
      },
      "source": [
        ""
      ],
      "execution_count": null,
      "outputs": []
    }
  ]
}
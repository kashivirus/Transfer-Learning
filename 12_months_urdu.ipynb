{
  "nbformat": 4,
  "nbformat_minor": 0,
  "metadata": {
    "colab": {
      "name": "load_weight.ipynb",
      "provenance": [],
      "collapsed_sections": []
    },
    "kernelspec": {
      "name": "python3",
      "display_name": "Python 3"
    },
    "language_info": {
      "name": "python"
    },
    "accelerator": "GPU"
  },
  "cells": [
    {
      "cell_type": "code",
      "metadata": {
        "id": "Xcn6Rik_KeJh"
      },
      "source": [
        "from tensorflow.keras.applications.vgg16 import VGG16\n",
        "from tensorflow.keras.preprocessing import image\n",
        "from keras.preprocessing.image import ImageDataGenerator\n",
        "from tensorflow.keras.models import Model,load_model\n",
        "from tensorflow.keras.layers import Dense, Flatten, Dropout\n",
        "import glob\n",
        "import matplotlib.pyplot as plt\n",
        "import cv2\n",
        "import numpy as np\n",
        "import keras\n",
        "import tensorflow as tf\n",
        "\n",
        "\n",
        "\n",
        "test_dir = '/content/drive/MyDrive/KASHIF DEEP LEARNING/transfer learning/ Jason Brownlee/dataBase/test'\n",
        "\n",
        "validation_dir = '/content/drive/MyDrive/KASHIF DEEP LEARNING/transfer learning/ Jason Brownlee/dataBase/val'\n",
        "\n",
        "train_dir = '/content/drive/MyDrive/KASHIF DEEP LEARNING/transfer learning/ Jason Brownlee/dataBase/train'"
      ],
      "execution_count": 1,
      "outputs": []
    },
    {
      "cell_type": "code",
      "metadata": {
        "id": "pKUPCCuONPQP"
      },
      "source": [
        "image_size=[263,173]\n"
      ],
      "execution_count": 2,
      "outputs": []
    },
    {
      "cell_type": "code",
      "metadata": {
        "colab": {
          "base_uri": "https://localhost:8080/"
        },
        "id": "mjS0nkiSNQjp",
        "outputId": "61a4e8ec-1ba6-4f1f-912b-b54e964f0c09"
      },
      "source": [
        "datagen = ImageDataGenerator()\n",
        "train_generator = datagen.flow_from_directory(train_dir, class_mode='categorical', batch_size=20,target_size=image_size)\n",
        "valid_generator = datagen.flow_from_directory(validation_dir, class_mode='categorical', batch_size=20,target_size=image_size)\n"
      ],
      "execution_count": 3,
      "outputs": [
        {
          "output_type": "stream",
          "name": "stdout",
          "text": [
            "Found 4200 images belonging to 12 classes.\n",
            "Found 1200 images belonging to 12 classes.\n"
          ]
        }
      ]
    },
    {
      "cell_type": "code",
      "metadata": {
        "colab": {
          "base_uri": "https://localhost:8080/"
        },
        "id": "duVR8NclNZLU",
        "outputId": "1adbb22f-9b71-467a-8dbb-229cdd741ed8"
      },
      "source": [
        "from keras.applications.vgg16 import VGG16\n",
        "import keras\n",
        "\n",
        "\n",
        "\n",
        "vgg16_model = keras.applications.vgg16.VGG16(\n",
        "    include_top=False,\n",
        "    weights=\"imagenet\",\n",
        "    input_tensor=None,\n",
        "    input_shape=(263,173,3),\n",
        "    pooling=None,\n",
        "    classes=1000,\n",
        "    classifier_activation=\"softmax\",\n",
        ")\n",
        "\n"
      ],
      "execution_count": 4,
      "outputs": [
        {
          "output_type": "stream",
          "name": "stdout",
          "text": [
            "Downloading data from https://storage.googleapis.com/tensorflow/keras-applications/vgg16/vgg16_weights_tf_dim_ordering_tf_kernels_notop.h5\n",
            "58892288/58889256 [==============================] - 1s 0us/step\n",
            "58900480/58889256 [==============================] - 1s 0us/step\n"
          ]
        }
      ]
    },
    {
      "cell_type": "code",
      "metadata": {
        "colab": {
          "base_uri": "https://localhost:8080/"
        },
        "id": "elQB5ta3OOhY",
        "outputId": "21b8f47c-df5c-4a51-fab6-4014278969bb"
      },
      "source": [
        "vgg16_model.summary()"
      ],
      "execution_count": 5,
      "outputs": [
        {
          "output_type": "stream",
          "name": "stdout",
          "text": [
            "Model: \"vgg16\"\n",
            "_________________________________________________________________\n",
            "Layer (type)                 Output Shape              Param #   \n",
            "=================================================================\n",
            "input_1 (InputLayer)         [(None, 263, 173, 3)]     0         \n",
            "_________________________________________________________________\n",
            "block1_conv1 (Conv2D)        (None, 263, 173, 64)      1792      \n",
            "_________________________________________________________________\n",
            "block1_conv2 (Conv2D)        (None, 263, 173, 64)      36928     \n",
            "_________________________________________________________________\n",
            "block1_pool (MaxPooling2D)   (None, 131, 86, 64)       0         \n",
            "_________________________________________________________________\n",
            "block2_conv1 (Conv2D)        (None, 131, 86, 128)      73856     \n",
            "_________________________________________________________________\n",
            "block2_conv2 (Conv2D)        (None, 131, 86, 128)      147584    \n",
            "_________________________________________________________________\n",
            "block2_pool (MaxPooling2D)   (None, 65, 43, 128)       0         \n",
            "_________________________________________________________________\n",
            "block3_conv1 (Conv2D)        (None, 65, 43, 256)       295168    \n",
            "_________________________________________________________________\n",
            "block3_conv2 (Conv2D)        (None, 65, 43, 256)       590080    \n",
            "_________________________________________________________________\n",
            "block3_conv3 (Conv2D)        (None, 65, 43, 256)       590080    \n",
            "_________________________________________________________________\n",
            "block3_pool (MaxPooling2D)   (None, 32, 21, 256)       0         \n",
            "_________________________________________________________________\n",
            "block4_conv1 (Conv2D)        (None, 32, 21, 512)       1180160   \n",
            "_________________________________________________________________\n",
            "block4_conv2 (Conv2D)        (None, 32, 21, 512)       2359808   \n",
            "_________________________________________________________________\n",
            "block4_conv3 (Conv2D)        (None, 32, 21, 512)       2359808   \n",
            "_________________________________________________________________\n",
            "block4_pool (MaxPooling2D)   (None, 16, 10, 512)       0         \n",
            "_________________________________________________________________\n",
            "block5_conv1 (Conv2D)        (None, 16, 10, 512)       2359808   \n",
            "_________________________________________________________________\n",
            "block5_conv2 (Conv2D)        (None, 16, 10, 512)       2359808   \n",
            "_________________________________________________________________\n",
            "block5_conv3 (Conv2D)        (None, 16, 10, 512)       2359808   \n",
            "_________________________________________________________________\n",
            "block5_pool (MaxPooling2D)   (None, 8, 5, 512)         0         \n",
            "=================================================================\n",
            "Total params: 14,714,688\n",
            "Trainable params: 14,714,688\n",
            "Non-trainable params: 0\n",
            "_________________________________________________________________\n"
          ]
        }
      ]
    },
    {
      "cell_type": "code",
      "metadata": {
        "id": "d5Ca8UaqObLp"
      },
      "source": [
        "for layer in vgg16_model.layers:\n",
        "    layer.trainable = False"
      ],
      "execution_count": 6,
      "outputs": []
    },
    {
      "cell_type": "code",
      "metadata": {
        "colab": {
          "base_uri": "https://localhost:8080/"
        },
        "id": "CLeNJMNMOhoh",
        "outputId": "36a21481-a472-4616-a7a9-c295e441a015"
      },
      "source": [
        "\n",
        "\n",
        "for layer in vgg16_model.layers:\n",
        "    print(layer, layer.trainable)\n",
        "\n"
      ],
      "execution_count": 7,
      "outputs": [
        {
          "output_type": "stream",
          "name": "stdout",
          "text": [
            "<keras.engine.input_layer.InputLayer object at 0x7fb663b138d0> False\n",
            "<keras.layers.convolutional.Conv2D object at 0x7fb659861750> False\n",
            "<keras.layers.convolutional.Conv2D object at 0x7fb659861e50> False\n",
            "<keras.layers.pooling.MaxPooling2D object at 0x7fb666530690> False\n",
            "<keras.layers.convolutional.Conv2D object at 0x7fb65950e810> False\n",
            "<keras.layers.convolutional.Conv2D object at 0x7fb659516050> False\n",
            "<keras.layers.pooling.MaxPooling2D object at 0x7fb6595231d0> False\n",
            "<keras.layers.convolutional.Conv2D object at 0x7fb659510790> False\n",
            "<keras.layers.convolutional.Conv2D object at 0x7fb659526810> False\n",
            "<keras.layers.convolutional.Conv2D object at 0x7fb659530a10> False\n",
            "<keras.layers.pooling.MaxPooling2D object at 0x7fb659533d90> False\n",
            "<keras.layers.convolutional.Conv2D object at 0x7fb65952bf90> False\n",
            "<keras.layers.convolutional.Conv2D object at 0x7fb65953a110> False\n",
            "<keras.layers.convolutional.Conv2D object at 0x7fb6594c5310> False\n",
            "<keras.layers.pooling.MaxPooling2D object at 0x7fb65953a410> False\n",
            "<keras.layers.convolutional.Conv2D object at 0x7fb6594cc3d0> False\n",
            "<keras.layers.convolutional.Conv2D object at 0x7fb6594d2990> False\n",
            "<keras.layers.convolutional.Conv2D object at 0x7fb6594d8e90> False\n",
            "<keras.layers.pooling.MaxPooling2D object at 0x7fb6594cc8d0> False\n"
          ]
        }
      ]
    },
    {
      "cell_type": "code",
      "metadata": {
        "id": "_CJt_qlcOjk9"
      },
      "source": [
        "from keras.layers import Flatten, Dense \n",
        "from keras import Model"
      ],
      "execution_count": 8,
      "outputs": []
    },
    {
      "cell_type": "code",
      "metadata": {
        "id": "e79EvnMIOyeQ"
      },
      "source": [
        "\n",
        "\n",
        "# xx=Dropout(rate=0.20)(vgg_model.output)\n",
        "# x=Flatten()(xx)\n",
        "# prediction=Dense(12,activation=\"softmax\")(x)\n",
        "# model=Model(inputs=vgg_model.input , outputs=prediction)\n",
        "# model.summary()\n"
      ],
      "execution_count": 9,
      "outputs": []
    },
    {
      "cell_type": "code",
      "metadata": {
        "colab": {
          "base_uri": "https://localhost:8080/"
        },
        "id": "cv5ZPNhBOpL5",
        "outputId": "fa9495dd-22d3-46be-e9a7-50a06a903564"
      },
      "source": [
        "last_output = Dropout(rate=0.20)(vgg16_model.layers[-1].output)\n",
        "vgg_x = Flatten()(last_output)\n",
        "vgg_x = Dense(12, activation = 'softmax')(vgg_x)\n",
        "\n",
        "# vgg_x = Dense(128, activation = 'relu')(vgg_x)\n",
        "# vgg_x = Dense(12, activation = 'softmax')(vgg_x)\n",
        "\n",
        "\n",
        "vgg16_final_model = Model(vgg16_model.input, vgg_x)\n",
        "\n",
        "\n",
        "\n",
        "vgg16_final_model.summary()\n",
        "# vgg16_final_model.compile(loss = 'categorical_crossentropy', optimizer= 'adam', metrics=['acc'])"
      ],
      "execution_count": 10,
      "outputs": [
        {
          "output_type": "stream",
          "name": "stdout",
          "text": [
            "Model: \"model\"\n",
            "_________________________________________________________________\n",
            "Layer (type)                 Output Shape              Param #   \n",
            "=================================================================\n",
            "input_1 (InputLayer)         [(None, 263, 173, 3)]     0         \n",
            "_________________________________________________________________\n",
            "block1_conv1 (Conv2D)        (None, 263, 173, 64)      1792      \n",
            "_________________________________________________________________\n",
            "block1_conv2 (Conv2D)        (None, 263, 173, 64)      36928     \n",
            "_________________________________________________________________\n",
            "block1_pool (MaxPooling2D)   (None, 131, 86, 64)       0         \n",
            "_________________________________________________________________\n",
            "block2_conv1 (Conv2D)        (None, 131, 86, 128)      73856     \n",
            "_________________________________________________________________\n",
            "block2_conv2 (Conv2D)        (None, 131, 86, 128)      147584    \n",
            "_________________________________________________________________\n",
            "block2_pool (MaxPooling2D)   (None, 65, 43, 128)       0         \n",
            "_________________________________________________________________\n",
            "block3_conv1 (Conv2D)        (None, 65, 43, 256)       295168    \n",
            "_________________________________________________________________\n",
            "block3_conv2 (Conv2D)        (None, 65, 43, 256)       590080    \n",
            "_________________________________________________________________\n",
            "block3_conv3 (Conv2D)        (None, 65, 43, 256)       590080    \n",
            "_________________________________________________________________\n",
            "block3_pool (MaxPooling2D)   (None, 32, 21, 256)       0         \n",
            "_________________________________________________________________\n",
            "block4_conv1 (Conv2D)        (None, 32, 21, 512)       1180160   \n",
            "_________________________________________________________________\n",
            "block4_conv2 (Conv2D)        (None, 32, 21, 512)       2359808   \n",
            "_________________________________________________________________\n",
            "block4_conv3 (Conv2D)        (None, 32, 21, 512)       2359808   \n",
            "_________________________________________________________________\n",
            "block4_pool (MaxPooling2D)   (None, 16, 10, 512)       0         \n",
            "_________________________________________________________________\n",
            "block5_conv1 (Conv2D)        (None, 16, 10, 512)       2359808   \n",
            "_________________________________________________________________\n",
            "block5_conv2 (Conv2D)        (None, 16, 10, 512)       2359808   \n",
            "_________________________________________________________________\n",
            "block5_conv3 (Conv2D)        (None, 16, 10, 512)       2359808   \n",
            "_________________________________________________________________\n",
            "block5_pool (MaxPooling2D)   (None, 8, 5, 512)         0         \n",
            "_________________________________________________________________\n",
            "dropout (Dropout)            (None, 8, 5, 512)         0         \n",
            "_________________________________________________________________\n",
            "flatten (Flatten)            (None, 20480)             0         \n",
            "_________________________________________________________________\n",
            "dense (Dense)                (None, 12)                245772    \n",
            "=================================================================\n",
            "Total params: 14,960,460\n",
            "Trainable params: 245,772\n",
            "Non-trainable params: 14,714,688\n",
            "_________________________________________________________________\n"
          ]
        }
      ]
    },
    {
      "cell_type": "code",
      "metadata": {
        "colab": {
          "base_uri": "https://localhost:8080/"
        },
        "id": "Nzpwj34OPV0W",
        "outputId": "01fa3242-45ca-4b2a-b6e7-9bb7b2ceae84"
      },
      "source": [
        "\n",
        "for layer in vgg16_final_model.layers:\n",
        "    print(layer, layer.trainable)\n"
      ],
      "execution_count": 11,
      "outputs": [
        {
          "output_type": "stream",
          "name": "stdout",
          "text": [
            "<keras.engine.input_layer.InputLayer object at 0x7fb663b138d0> False\n",
            "<keras.layers.convolutional.Conv2D object at 0x7fb659861750> False\n",
            "<keras.layers.convolutional.Conv2D object at 0x7fb659861e50> False\n",
            "<keras.layers.pooling.MaxPooling2D object at 0x7fb666530690> False\n",
            "<keras.layers.convolutional.Conv2D object at 0x7fb65950e810> False\n",
            "<keras.layers.convolutional.Conv2D object at 0x7fb659516050> False\n",
            "<keras.layers.pooling.MaxPooling2D object at 0x7fb6595231d0> False\n",
            "<keras.layers.convolutional.Conv2D object at 0x7fb659510790> False\n",
            "<keras.layers.convolutional.Conv2D object at 0x7fb659526810> False\n",
            "<keras.layers.convolutional.Conv2D object at 0x7fb659530a10> False\n",
            "<keras.layers.pooling.MaxPooling2D object at 0x7fb659533d90> False\n",
            "<keras.layers.convolutional.Conv2D object at 0x7fb65952bf90> False\n",
            "<keras.layers.convolutional.Conv2D object at 0x7fb65953a110> False\n",
            "<keras.layers.convolutional.Conv2D object at 0x7fb6594c5310> False\n",
            "<keras.layers.pooling.MaxPooling2D object at 0x7fb65953a410> False\n",
            "<keras.layers.convolutional.Conv2D object at 0x7fb6594cc3d0> False\n",
            "<keras.layers.convolutional.Conv2D object at 0x7fb6594d2990> False\n",
            "<keras.layers.convolutional.Conv2D object at 0x7fb6594d8e90> False\n",
            "<keras.layers.pooling.MaxPooling2D object at 0x7fb6594cc8d0> False\n",
            "<keras.layers.core.Dropout object at 0x7fb6594b61d0> True\n",
            "<keras.layers.core.Flatten object at 0x7fb6594db1d0> True\n",
            "<keras.layers.core.Dense object at 0x7fb6594e5750> True\n"
          ]
        }
      ]
    },
    {
      "cell_type": "code",
      "metadata": {
        "id": "ykq7s_p2QD6S"
      },
      "source": [
        "model  = vgg16_final_model \n",
        "\n",
        "\n",
        "\n",
        "\n",
        "# model.compile(loss='categorical_crossentropy', \n",
        "#               optimizer=tf.keras.optimizers.SGD(lr=0.01, momentum=0.9, nesterov=True) ,\n",
        "#               metrics=['accuracy'] ,)"
      ],
      "execution_count": 12,
      "outputs": []
    },
    {
      "cell_type": "markdown",
      "metadata": {
        "id": "sQElow8FIoeu"
      },
      "source": [
        "**load_weights**"
      ]
    },
    {
      "cell_type": "code",
      "metadata": {
        "id": "rUPEZs2bIr5S"
      },
      "source": [
        "model.load_weights('/content/drive/MyDrive/KASHIF DEEP LEARNING/transfer learning/ Jason Brownlee/dataBase/here/model.04-14.33.h5')"
      ],
      "execution_count": 13,
      "outputs": []
    },
    {
      "cell_type": "code",
      "metadata": {
        "id": "BK1O2I5vI1T7"
      },
      "source": [
        "# model.get_weights()"
      ],
      "execution_count": 16,
      "outputs": []
    },
    {
      "cell_type": "code",
      "metadata": {
        "colab": {
          "base_uri": "https://localhost:8080/"
        },
        "id": "G2GrDNhlI15W",
        "outputId": "411110ec-8e55-4557-9c7d-53f1eaed4bc7"
      },
      "source": [
        "model.summary()"
      ],
      "execution_count": 22,
      "outputs": [
        {
          "output_type": "stream",
          "name": "stdout",
          "text": [
            "Model: \"model\"\n",
            "_________________________________________________________________\n",
            "Layer (type)                 Output Shape              Param #   \n",
            "=================================================================\n",
            "input_1 (InputLayer)         [(None, 263, 173, 3)]     0         \n",
            "_________________________________________________________________\n",
            "block1_conv1 (Conv2D)        (None, 263, 173, 64)      1792      \n",
            "_________________________________________________________________\n",
            "block1_conv2 (Conv2D)        (None, 263, 173, 64)      36928     \n",
            "_________________________________________________________________\n",
            "block1_pool (MaxPooling2D)   (None, 131, 86, 64)       0         \n",
            "_________________________________________________________________\n",
            "block2_conv1 (Conv2D)        (None, 131, 86, 128)      73856     \n",
            "_________________________________________________________________\n",
            "block2_conv2 (Conv2D)        (None, 131, 86, 128)      147584    \n",
            "_________________________________________________________________\n",
            "block2_pool (MaxPooling2D)   (None, 65, 43, 128)       0         \n",
            "_________________________________________________________________\n",
            "block3_conv1 (Conv2D)        (None, 65, 43, 256)       295168    \n",
            "_________________________________________________________________\n",
            "block3_conv2 (Conv2D)        (None, 65, 43, 256)       590080    \n",
            "_________________________________________________________________\n",
            "block3_conv3 (Conv2D)        (None, 65, 43, 256)       590080    \n",
            "_________________________________________________________________\n",
            "block3_pool (MaxPooling2D)   (None, 32, 21, 256)       0         \n",
            "_________________________________________________________________\n",
            "block4_conv1 (Conv2D)        (None, 32, 21, 512)       1180160   \n",
            "_________________________________________________________________\n",
            "block4_conv2 (Conv2D)        (None, 32, 21, 512)       2359808   \n",
            "_________________________________________________________________\n",
            "block4_conv3 (Conv2D)        (None, 32, 21, 512)       2359808   \n",
            "_________________________________________________________________\n",
            "block4_pool (MaxPooling2D)   (None, 16, 10, 512)       0         \n",
            "_________________________________________________________________\n",
            "block5_conv1 (Conv2D)        (None, 16, 10, 512)       2359808   \n",
            "_________________________________________________________________\n",
            "block5_conv2 (Conv2D)        (None, 16, 10, 512)       2359808   \n",
            "_________________________________________________________________\n",
            "block5_conv3 (Conv2D)        (None, 16, 10, 512)       2359808   \n",
            "_________________________________________________________________\n",
            "block5_pool (MaxPooling2D)   (None, 8, 5, 512)         0         \n",
            "_________________________________________________________________\n",
            "dropout (Dropout)            (None, 8, 5, 512)         0         \n",
            "_________________________________________________________________\n",
            "flatten (Flatten)            (None, 20480)             0         \n",
            "_________________________________________________________________\n",
            "dense (Dense)                (None, 12)                245772    \n",
            "=================================================================\n",
            "Total params: 14,960,460\n",
            "Trainable params: 245,772\n",
            "Non-trainable params: 14,714,688\n",
            "_________________________________________________________________\n"
          ]
        }
      ]
    },
    {
      "cell_type": "code",
      "metadata": {
        "colab": {
          "base_uri": "https://localhost:8080/"
        },
        "id": "y8gx-z6EI17D",
        "outputId": "6f981966-b7fc-420e-ce81-a10b9dc33e07"
      },
      "source": [
        "\n",
        "\n",
        "model.compile(loss='categorical_crossentropy', \n",
        "              optimizer=tf.keras.optimizers.SGD(lr=0.01, momentum=0.9, nesterov=True) ,\n",
        "              metrics=['accuracy'] ,)"
      ],
      "execution_count": 27,
      "outputs": [
        {
          "output_type": "stream",
          "name": "stderr",
          "text": [
            "/usr/local/lib/python3.7/dist-packages/keras/optimizer_v2/optimizer_v2.py:356: UserWarning: The `lr` argument is deprecated, use `learning_rate` instead.\n",
            "  \"The `lr` argument is deprecated, use `learning_rate` instead.\")\n"
          ]
        }
      ]
    },
    {
      "cell_type": "code",
      "metadata": {
        "id": "_TdTx5InI19H"
      },
      "source": [
        ""
      ],
      "execution_count": null,
      "outputs": []
    },
    {
      "cell_type": "code",
      "metadata": {
        "id": "MBGzjo1bI1_A"
      },
      "source": [
        ""
      ],
      "execution_count": null,
      "outputs": []
    },
    {
      "cell_type": "code",
      "metadata": {
        "id": "xadF4iwWI2A8"
      },
      "source": [
        ""
      ],
      "execution_count": null,
      "outputs": []
    },
    {
      "cell_type": "code",
      "metadata": {
        "id": "hgW-1K2XI2Cv"
      },
      "source": [
        ""
      ],
      "execution_count": null,
      "outputs": []
    },
    {
      "cell_type": "code",
      "metadata": {
        "id": "fGZ4CsDdI2El"
      },
      "source": [
        ""
      ],
      "execution_count": null,
      "outputs": []
    },
    {
      "cell_type": "code",
      "metadata": {
        "id": "Mjtne-dAI2Gd"
      },
      "source": [
        ""
      ],
      "execution_count": null,
      "outputs": []
    },
    {
      "cell_type": "code",
      "metadata": {
        "id": "Rgv5PQ0SI2Ir"
      },
      "source": [
        ""
      ],
      "execution_count": null,
      "outputs": []
    },
    {
      "cell_type": "code",
      "metadata": {
        "id": "Eqdl-LDXSEuV"
      },
      "source": [
        "\n",
        "# #create callback\n",
        "# filepath = 'my_best_model.hdf5'\n",
        "# checkpoint = ModelCheckpoint(filepath=filepath, \n",
        "#                              monitor='val_loss',\n",
        "#                              verbose=1, \n",
        "#                              save_best_only=True,\n",
        "#                              mode='min')\n",
        "# callbacks = [checkpoint]\n",
        "\n",
        "# #fit the model\n",
        "# history = model.fit(pd.DataFrame(X_train).apply(np.asarray),\n",
        "#                   y_train,\n",
        "#                   batch_size=10,\n",
        "#                   epochs=100,\n",
        "#                   validation_split=0.2,\n",
        "#                   callbacks=callbacks)"
      ],
      "execution_count": 26,
      "outputs": []
    },
    {
      "cell_type": "code",
      "metadata": {
        "id": "VESsS_8WRMpQ"
      },
      "source": [
        "\n",
        "\n",
        "filepath = '/content/drive/MyDrive/KASHIF DEEP LEARNING/transfer learning/ Jason Brownlee/dataBase/here/best_model.{epoch:02d}-{val_loss:.2f}.h5'\n",
        "\n",
        "checkpoint = keras.callbacks.ModelCheckpoint(filepath=filepath, \n",
        "                             monitor='val_loss',\n",
        "                             verbose=1, \n",
        "                             save_best_only=True,\n",
        "                             mode='min')\n",
        "\n",
        "\n",
        "\n",
        "\n",
        "\n",
        "\n",
        "\n",
        "\n",
        "\n",
        "# (\n",
        "#     filepath=filepath,\n",
        "#     save_weights_only=True,\n",
        "#     monitor='val_accuracy',\n",
        "#     mode='max',\n",
        "#     verbose = 1,\n",
        "#     save_best_only=True)\n",
        "\n",
        "# previose one\n",
        "\n"
      ],
      "execution_count": 24,
      "outputs": []
    },
    {
      "cell_type": "code",
      "metadata": {
        "id": "64_d50OwS1XW"
      },
      "source": [
        "\n",
        "callback = tf.keras.callbacks.EarlyStopping(monitor='loss', patience=3)\n",
        "\n",
        "# callbacks = [checkpoint , callback]\n"
      ],
      "execution_count": 25,
      "outputs": []
    },
    {
      "cell_type": "code",
      "metadata": {
        "colab": {
          "base_uri": "https://localhost:8080/"
        },
        "id": "pcY6GIjRS2i2",
        "outputId": "da6bce99-a142-4882-93cc-ae333ed55ff1"
      },
      "source": [
        "history  = model.fit(\n",
        "\n",
        "\n",
        "                     train_generator,\n",
        "                     batch_size=32,\n",
        "                     epochs=5,\n",
        "                     verbose='auto',\n",
        "                     callbacks=[callback],\n",
        "                     validation_split=0.0, \n",
        "                     validation_data=valid_generator,\n",
        "                     shuffle=True,\n",
        "                     class_weight=None,\n",
        "                     sample_weight=None,\n",
        "                     initial_epoch=0,\n",
        "                     steps_per_epoch=4200/32,\n",
        "                     validation_steps=1200/32,\n",
        "                     validation_batch_size=None,\n",
        "                     validation_freq=1,\n",
        "                     max_queue_size=10,\n",
        "                     workers=1,\n",
        "                     use_multiprocessing=False)"
      ],
      "execution_count": 28,
      "outputs": [
        {
          "output_type": "stream",
          "name": "stdout",
          "text": [
            "Epoch 1/5\n",
            "131/131 [==============================] - 2376s 18s/step - loss: 11.4267 - accuracy: 0.9735 - val_loss: 16.5021 - val_accuracy: 0.9763\n",
            "Epoch 2/5\n",
            "131/131 [==============================] - 852s 7s/step - loss: 9.6588 - accuracy: 0.9746 - val_loss: 16.3457 - val_accuracy: 0.9618\n",
            "Epoch 3/5\n",
            "131/131 [==============================] - 340s 3s/step - loss: 9.5045 - accuracy: 0.9792 - val_loss: 31.6329 - val_accuracy: 0.9553\n",
            "Epoch 4/5\n",
            "131/131 [==============================] - 129s 986ms/step - loss: 9.8746 - accuracy: 0.9765 - val_loss: 14.9836 - val_accuracy: 0.9737\n",
            "Epoch 5/5\n",
            "131/131 [==============================] - 73s 555ms/step - loss: 4.8663 - accuracy: 0.9856 - val_loss: 17.2040 - val_accuracy: 0.9763\n"
          ]
        }
      ]
    },
    {
      "cell_type": "code",
      "metadata": {
        "id": "V-spBsyUTYIo"
      },
      "source": [
        "# model.load_weights('/content/drive/MyDrive/KASHIF DEEP LEARNING/transfer learning/ Jason Brownlee/dataBase/here/model.04-14.33.h5', \n",
        "#                    by_name=False,\n",
        "#                    skip_mismatch=False,\n",
        "#                    options=None)"
      ],
      "execution_count": 29,
      "outputs": []
    },
    {
      "cell_type": "code",
      "metadata": {
        "id": "IM1bK6k4a_AW"
      },
      "source": [
        "model.save('/content/drive/MyDrive/KASHIF DEEP LEARNING/transfer learning/ Jason Brownlee/dataBase/here/this_s.h5')   "
      ],
      "execution_count": 30,
      "outputs": []
    },
    {
      "cell_type": "code",
      "metadata": {
        "id": "7cr-rKfVbDjt"
      },
      "source": [
        "\n",
        "vgg16_saved = load_model('/content/drive/MyDrive/KASHIF DEEP LEARNING/transfer learning/ Jason Brownlee/dataBase/here/this_s.h5')\n"
      ],
      "execution_count": 31,
      "outputs": []
    },
    {
      "cell_type": "code",
      "metadata": {
        "colab": {
          "base_uri": "https://localhost:8080/"
        },
        "id": "g9NOdkUmbiaN",
        "outputId": "96d15615-0e71-4ba9-ef2d-f2cbcd5b0411"
      },
      "source": [
        "test_generator = datagen.flow_from_directory(test_dir, class_mode='categorical', batch_size=20,target_size=image_size)\n"
      ],
      "execution_count": 39,
      "outputs": [
        {
          "output_type": "stream",
          "name": "stdout",
          "text": [
            "Found 600 images belonging to 12 classes.\n"
          ]
        }
      ]
    },
    {
      "cell_type": "code",
      "metadata": {
        "colab": {
          "base_uri": "https://localhost:8080/"
        },
        "id": "-YMGXWodbbue",
        "outputId": "1be7511f-b8d9-4781-c9a3-08e75d2b4020"
      },
      "source": [
        "vgg16_saved.evaluate(test_generator)"
      ],
      "execution_count": 40,
      "outputs": [
        {
          "output_type": "stream",
          "name": "stdout",
          "text": [
            "30/30 [==============================] - 389s 13s/step - loss: 13.6582 - accuracy: 0.9700\n"
          ]
        },
        {
          "output_type": "execute_result",
          "data": {
            "text/plain": [
              "[13.658186912536621, 0.9700000286102295]"
            ]
          },
          "metadata": {},
          "execution_count": 40
        }
      ]
    },
    {
      "cell_type": "code",
      "metadata": {
        "id": "mKIPe2_tbhf4"
      },
      "source": [
        ""
      ],
      "execution_count": null,
      "outputs": []
    }
  ]
}